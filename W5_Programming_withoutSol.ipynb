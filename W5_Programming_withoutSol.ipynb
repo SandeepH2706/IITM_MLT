{
  "nbformat": 4,
  "nbformat_minor": 0,
  "metadata": {
    "colab": {
      "provenance": [],
      "collapsed_sections": [
        "uBUor5KWp3_Q",
        "FSDbBz7ucm_a",
        "5eh8cI4PeVEb"
      ],
      "include_colab_link": true
    },
    "kernelspec": {
      "name": "python3",
      "display_name": "Python 3"
    },
    "language_info": {
      "name": "python"
    }
  },
  "cells": [
    {
      "cell_type": "markdown",
      "metadata": {
        "id": "view-in-github",
        "colab_type": "text"
      },
      "source": [
        "<a href=\"https://colab.research.google.com/github/SandeepH2706/IITM_MLT/blob/main/W5_Programming_withoutSol.ipynb\" target=\"_parent\"><img src=\"https://colab.research.google.com/assets/colab-badge.svg\" alt=\"Open In Colab\"/></a>"
      ]
    },
    {
      "cell_type": "markdown",
      "source": [
        "## Importing the libraries"
      ],
      "metadata": {
        "id": "WT2nf7VJXHsH"
      }
    },
    {
      "cell_type": "code",
      "execution_count": 1,
      "metadata": {
        "id": "0kgvCN0n3_1p"
      },
      "outputs": [],
      "source": [
        "import numpy as np\n",
        "import matplotlib.pyplot as plt"
      ]
    },
    {
      "cell_type": "markdown",
      "source": [
        "This assignments has two sections:\n",
        "* Linear Regression\n",
        "* Kernel Regression\n",
        "\n",
        "\n"
      ],
      "metadata": {
        "id": "iBY90BqPXO31"
      }
    },
    {
      "cell_type": "markdown",
      "source": [
        "# Section 1:\n",
        "\n",
        "**Linear Regression**"
      ],
      "metadata": {
        "id": "X1nmn2q15Vzn"
      }
    },
    {
      "cell_type": "markdown",
      "source": [
        "We will use the Boston_housing dataset for the regression problem. Run the below cell to get the following variables:\n",
        "* `Training_data` = Training data matrix of shape $(n, d)$\n",
        "* `labels` = label vector corresponding to the training data\n",
        "* `test_data` = Test data matrix of shape $(n_1, d)$ where $n_1$ is the number of examples in test dataset.\n",
        "* `test_labels` = label vector corresponding to the test data\n",
        "\n",
        "Use this dataset for the regression problem."
      ],
      "metadata": {
        "id": "aComJ_Fd5dnI"
      }
    },
    {
      "cell_type": "code",
      "source": [
        "from keras.datasets import boston_housing\n",
        "Train, test = boston_housing.load_data(seed= 111)\n",
        "Training_data, labels = Train[0], Train[1]\n",
        "Test_data, test_labels = test[0], test[1]"
      ],
      "metadata": {
        "colab": {
          "base_uri": "https://localhost:8080/"
        },
        "id": "53UCtcH64nsC",
        "outputId": "75ae077e-54c0-44f7-a323-a40304188e3a"
      },
      "execution_count": 2,
      "outputs": [
        {
          "output_type": "stream",
          "name": "stdout",
          "text": [
            "Downloading data from https://storage.googleapis.com/tensorflow/tf-keras-datasets/boston_housing.npz\n",
            "\u001b[1m57026/57026\u001b[0m \u001b[32m━━━━━━━━━━━━━━━━━━━━\u001b[0m\u001b[37m\u001b[0m \u001b[1m0s\u001b[0m 0us/step\n"
          ]
        }
      ]
    },
    {
      "cell_type": "markdown",
      "source": [
        "## Question 1\n",
        "How many examples are there in the training dataset?\n",
        "\n"
      ],
      "metadata": {
        "id": "R0Dnj-Qha47p"
      }
    },
    {
      "cell_type": "code",
      "source": [
        "Training_data.shape[0]"
      ],
      "metadata": {
        "id": "7C95Nh03mnGZ",
        "outputId": "adb011c8-5ea4-4bec-b6c0-4791f36c70a2",
        "colab": {
          "base_uri": "https://localhost:8080/"
        }
      },
      "execution_count": 4,
      "outputs": [
        {
          "output_type": "execute_result",
          "data": {
            "text/plain": [
              "404"
            ]
          },
          "metadata": {},
          "execution_count": 4
        }
      ]
    },
    {
      "cell_type": "markdown",
      "source": [
        "## Question 2\n",
        "How many examples are there in the test dataset?\n",
        "\n"
      ],
      "metadata": {
        "id": "ChYFPOV5b5jZ"
      }
    },
    {
      "cell_type": "code",
      "source": [
        "Test_data.shape[0]"
      ],
      "metadata": {
        "id": "aosrtgOKmzP1",
        "outputId": "135b1b5e-059b-4b36-e769-cae2da51a4fc",
        "colab": {
          "base_uri": "https://localhost:8080/"
        }
      },
      "execution_count": 5,
      "outputs": [
        {
          "output_type": "execute_result",
          "data": {
            "text/plain": [
              "102"
            ]
          },
          "metadata": {},
          "execution_count": 5
        }
      ]
    },
    {
      "cell_type": "markdown",
      "source": [
        "## Question 3\n",
        "\n",
        "How many features are there in the dataset?\n",
        "\n"
      ],
      "metadata": {
        "id": "ZYLLXlAacL5c"
      }
    },
    {
      "cell_type": "code",
      "source": [
        "Training_data.shape[1]\n"
      ],
      "metadata": {
        "id": "5vbjQWhlm6m9"
      },
      "execution_count": null,
      "outputs": []
    },
    {
      "cell_type": "markdown",
      "source": [
        "Linear regression model for the dataset ${\\mathbb{x}, y}$ is given as\n",
        "$$h_w(\\mathbb{x}) = w_1x^{1}+w_2x^{2}+...+w_dx^{d} =  \\mathbb{x}^Tw\n",
        "$$\n",
        "\n",
        "where $x^{i}$ is the $i^{th}$ feature, $\\mathbb{x}$ is the feature matrix of shape $(d, n)$ and $w = [w_1, w_2, ...w_d]^T$ is the weight vector.\n",
        "\n",
        "\n",
        "Notice that above model always pass through the origin but for a given dataset, best fit model need not pass through the origin. To tackle this issue, we add an intercept $w_0$ in the model and set the corresponding featrue $x^{0}$ to $1$. That is\n",
        "\n",
        "$$h_w(\\mathbb{x}) =w_0x^{0}+ w_1x^{1}+w_2x^{2}+...+w_dx^{n} =  \\mathbb{x}^Tw\n",
        "$$\n",
        "\n",
        "We call $x^{0}$ the dummy feature and set its value to 1 for each examples. Now $w$ is of shape $(d+1, 1)$ and $\\mathbb{x}$ is of shape $(d+1, n)$ where the first row of $\\mathbb{x}$ has entries as 1.\n"
      ],
      "metadata": {
        "id": "KmF4HhMmhx9R"
      }
    },
    {
      "cell_type": "markdown",
      "source": [
        "## Task\n",
        "\n",
        "Add the dummy feature in the feature matrix `Training_data` and test data matrix `test_data`. We will be using this new feature matrices (after adding te dummy feature) for learning the model.\n",
        "\n",
        "Note: As per your convenience, you can convert the shape of the training dataset to $(d, n)$."
      ],
      "metadata": {
        "id": "kN5fsfqfmX_w"
      }
    },
    {
      "cell_type": "code",
      "source": [
        "# Add the dummy feature (a column of ones) to the training and test data\n",
        "Training_data = np.insert(Training_data, 0, 1, axis=1)\n",
        "Test_data = np.insert(Test_data, 0, 1, axis=1)\n",
        "\n",
        "# Optional: Transpose the matrices to have shape (d+1, n) if desired\n",
        "Training_data = Training_data.T\n",
        "Test_data = Test_data.T\n",
        "\n",
        "print(\"Shape of Training_data after adding dummy feature:\", Training_data.shape)\n",
        "print(\"Shape of Test_data after adding dummy feature:\", Test_data.shape)"
      ],
      "metadata": {
        "id": "IvXT_NaOnAcy",
        "outputId": "b6f5231e-d93e-45d0-ed56-d4a98566c38f",
        "colab": {
          "base_uri": "https://localhost:8080/"
        }
      },
      "execution_count": 6,
      "outputs": [
        {
          "output_type": "stream",
          "name": "stdout",
          "text": [
            "Shape of Training_data after adding dummy feature: (14, 404)\n",
            "Shape of Test_data after adding dummy feature: (14, 102)\n"
          ]
        }
      ]
    },
    {
      "cell_type": "markdown",
      "source": [
        "## Question 4\n",
        "If the solution of optimization problem is obtained by setting the first derivative of loss function (squared loss) to zero, find the value of $w_0+w_1+...w_d$.\n",
        "\n",
        "\n"
      ],
      "metadata": {
        "id": "sK4oWgqCnzgc"
      }
    },
    {
      "cell_type": "code",
      "source": [
        "labels = labels.reshape(-1, 1)\n",
        "\n",
        "# The closed-form solution for the weights w is (X^T * X)^-1 * X^T * y\n",
        "# where X is the training data matrix (with dummy feature) and y is the labels vector.\n",
        "\n",
        "# Calculate (X^T * X)\n",
        "XTX = np.dot(Training_data, Training_data.T)\n",
        "\n",
        "# Calculate (X^T * X)^-1\n",
        "XTX_inv = np.linalg.inv(XTX)\n",
        "\n",
        "# Calculate X^T * y\n",
        "XTy = np.dot(Training_data, labels)\n",
        "\n",
        "# Calculate w\n",
        "w = np.dot(XTX_inv, XTy)\n",
        "\n",
        "# Calculate the sum of the elements in the weight vector w\n",
        "sum_of_weights = np.sum(w)\n",
        "\n",
        "print(\"Value of w0 + w1 + ... wd:\", sum_of_weights)"
      ],
      "metadata": {
        "id": "ivTJvie_nF-x",
        "outputId": "b893c7c7-89b8-4f60-8abf-2f0b27e17f56",
        "colab": {
          "base_uri": "https://localhost:8080/"
        }
      },
      "execution_count": 7,
      "outputs": [
        {
          "output_type": "stream",
          "name": "stdout",
          "text": [
            "Value of w0 + w1 + ... wd: 20.5245824646541\n"
          ]
        }
      ]
    },
    {
      "cell_type": "markdown",
      "source": [
        "## Question 5\n",
        "Find the average of the predictions made by the above model.\n",
        "\n"
      ],
      "metadata": {
        "id": "uBUor5KWp3_Q"
      }
    },
    {
      "cell_type": "code",
      "source": [
        "# Make predictions on the test data\n",
        "predictions = np.dot(w.T, Test_data)\n",
        "\n",
        "# Reshape predictions to be a 1D array\n",
        "predictions = predictions.flatten()\n",
        "\n",
        "# Calculate the average of the predictions\n",
        "average_prediction = np.mean(predictions)\n",
        "\n",
        "print(\"Average of the predictions:\", average_prediction)"
      ],
      "metadata": {
        "id": "61zAjddcoA3h",
        "outputId": "48771579-b9b3-4d56-e152-adcce94822d3",
        "colab": {
          "base_uri": "https://localhost:8080/"
        }
      },
      "execution_count": 8,
      "outputs": [
        {
          "output_type": "stream",
          "name": "stdout",
          "text": [
            "Average of the predictions: 24.168028424005353\n"
          ]
        }
      ]
    },
    {
      "cell_type": "markdown",
      "source": [
        "## Question 6\n",
        "\n",
        "Find the loss for the training data points using the above model. Consider the loss to be defined as\n",
        "\n",
        "$$ \\sqrt{\\dfrac{1}{n}\\sum\\limits_{i=1}^{n} (y_i- \\hat{y}_i)^2}\n",
        "$$\n",
        "\n",
        "Where $\\hat{y}_i$ is the prediction for $i^{th}$ data point.\n",
        "\n"
      ],
      "metadata": {
        "id": "FSDbBz7ucm_a"
      }
    },
    {
      "cell_type": "code",
      "source": [
        "## Enter your solution here\n",
        "# Calculate predictions for the training data\n",
        "train_predictions = np.dot(w.T, Training_data).flatten()\n",
        "\n",
        "# Calculate the squared differences between true labels and predictions\n",
        "squared_errors = (labels.flatten() - train_predictions) ** 2\n",
        "\n",
        "# Calculate the mean of the squared errors\n",
        "mean_squared_error = np.mean(squared_errors)\n",
        "\n",
        "# Calculate the root mean squared error (loss)\n",
        "rmse_loss = np.sqrt(mean_squared_error)\n",
        "\n",
        "print(\"Loss (RMSE) for the training data:\", rmse_loss)"
      ],
      "metadata": {
        "id": "F4jRui2VSeDt",
        "outputId": "d8bda371-0ec8-419c-8509-403d38cf5a73",
        "colab": {
          "base_uri": "https://localhost:8080/"
        }
      },
      "execution_count": 12,
      "outputs": [
        {
          "output_type": "stream",
          "name": "stdout",
          "text": [
            "Loss (RMSE) for the training data: 4.552387969840813\n"
          ]
        }
      ]
    },
    {
      "cell_type": "markdown",
      "source": [
        "## Question 7\n",
        "\n",
        "Find the loss for the test data points using the above model. Consider the loss to be defined as\n",
        "\n",
        "$$ \\sqrt{\\dfrac{1}{n}\\sum\\limits_{i=1}^{n} (y_i- \\hat{y}_i)^2}\n",
        "$$\n",
        "\n",
        "Where $\\hat{y}_i$ is the prediction for $i^{th}$ data point.\n",
        "\n"
      ],
      "metadata": {
        "id": "5eh8cI4PeVEb"
      }
    },
    {
      "cell_type": "code",
      "source": [
        "# Calculate the squared differences between true labels and predictions\n",
        "squared_errors_test = (test_labels - predictions) ** 2\n",
        "\n",
        "# Calculate the mean of the squared errors\n",
        "mean_squared_error_test = np.mean(squared_errors_test)\n",
        "\n",
        "# Calculate the root mean squared error (loss)\n",
        "rmse_loss_test = np.sqrt(mean_squared_error_test)\n",
        "\n",
        "print(\"Loss (RMSE) for the test data:\", rmse_loss_test)"
      ],
      "metadata": {
        "id": "AkAC7jX-oX2d",
        "outputId": "0d55717a-63f6-4e7a-e8b7-6d8dc562259e",
        "colab": {
          "base_uri": "https://localhost:8080/"
        }
      },
      "execution_count": 13,
      "outputs": [
        {
          "output_type": "stream",
          "name": "stdout",
          "text": [
            "Loss (RMSE) for the test data: 5.32766221618139\n"
          ]
        }
      ]
    },
    {
      "cell_type": "markdown",
      "source": [
        "## Question 8\n",
        "Find the weights using the gradient descent. Use a constant learning rate of $\\eta = 10^{-10}$. Initialize the weight vector as zero vector and update the weights for 100 iterations. Enter the sum of all the weights.\n",
        "\n"
      ],
      "metadata": {
        "id": "NkeClcplfJLK"
      }
    },
    {
      "cell_type": "code",
      "source": [
        "# Initialize weights as a zero vector. The shape should be (d+1, 1)\n",
        "d = Training_data.shape[0] - 1\n",
        "weights = np.zeros((d + 1, 1))\n",
        "\n",
        "# Set the learning rate\n",
        "learning_rate = 1e-10\n",
        "\n",
        "# Set the number of iterations\n",
        "num_iterations = 100\n",
        "\n",
        "# Get the number of training examples\n",
        "n_train = Training_data.shape[1]\n",
        "\n",
        "# Perform gradient descent\n",
        "for i in range(num_iterations):\n",
        "  # Calculate the predictions\n",
        "  predictions = np.dot(weights.T, Training_data)\n",
        "\n",
        "  # Calculate the error (difference between labels and predictions)\n",
        "  error = labels.T - predictions\n",
        "\n",
        "  # Calculate the gradient of the cost function\n",
        "  # The gradient for a single example is -2/n * X * (y - y_hat)\n",
        "  # For the entire dataset, the gradient is -2/n * X * (Y - Y_hat).T\n",
        "  gradient = -2/n_train * np.dot(Training_data, error.T)\n",
        "\n",
        "  # Update the weights\n",
        "  weights = weights - learning_rate * gradient\n",
        "\n",
        "# Calculate the sum of all the weights\n",
        "sum_of_weights_gd = np.sum(weights)\n",
        "\n",
        "print(\"Sum of all weights after 100 iterations of gradient descent:\", sum_of_weights_gd)"
      ],
      "metadata": {
        "id": "-5ZLQCm9oniD",
        "outputId": "e24419af-8819-4782-d6ed-be9a5d23d09c",
        "colab": {
          "base_uri": "https://localhost:8080/"
        }
      },
      "execution_count": 14,
      "outputs": [
        {
          "output_type": "stream",
          "name": "stdout",
          "text": [
            "Sum of all weights after 100 iterations of gradient descent: 0.00039286355135382525\n"
          ]
        }
      ]
    },
    {
      "cell_type": "markdown",
      "source": [
        "## Question 9\n",
        "\n",
        "Find the loss for the training data points if the model is learnt using the gradient descent as in question 8. Consider the loss to be defined as\n",
        "\n",
        "$$ \\sqrt{\\dfrac{1}{n}\\sum\\limits_{i=1}^{n} (y_i- \\hat{y}_i)^2}\n",
        "$$\n",
        "\n",
        "Where $\\hat{y}_i$ is the prediction for $i^{th}$ data point.\n",
        "\n"
      ],
      "metadata": {
        "id": "78ApH0oAg96X"
      }
    },
    {
      "cell_type": "code",
      "source": [
        "# Calculate predictions for the training data using weights from gradient descent\n",
        "train_predictions_gd = np.dot(weights.T, Training_data).flatten()\n",
        "\n",
        "# Calculate the squared differences between true labels and predictions\n",
        "squared_errors_gd = (labels.flatten() - train_predictions_gd) ** 2\n",
        "\n",
        "# Calculate the mean of the squared errors\n",
        "mean_squared_error_gd = np.mean(squared_errors_gd)\n",
        "\n",
        "# Calculate the root mean squared error (loss)\n",
        "rmse_loss_gd = np.sqrt(mean_squared_error_gd)\n",
        "\n",
        "print(\"Loss (RMSE) for the training data using gradient descent:\", rmse_loss_gd)"
      ],
      "metadata": {
        "id": "RGZefeclotVm",
        "outputId": "02045e8f-9083-4628-b59e-259c9a0c3acd",
        "colab": {
          "base_uri": "https://localhost:8080/"
        }
      },
      "execution_count": 15,
      "outputs": [
        {
          "output_type": "stream",
          "name": "stdout",
          "text": [
            "Loss (RMSE) for the training data using gradient descent: 24.045823388028428\n"
          ]
        }
      ]
    },
    {
      "cell_type": "markdown",
      "source": [
        "## Question 10\n",
        "\n",
        "Find the loss for the test data points if the model is learnt using the gradient descent as in question 8. Consider the loss to be defined as\n",
        "\n",
        "$$ \\sqrt{\\dfrac{1}{n}\\sum\\limits_{i=1}^{n} (y_i- \\hat{y}_i)^2}\n",
        "$$\n",
        "\n",
        "Where $\\hat{y}_i$ is the prediction for $i^{th}$ data point.\n",
        "\n"
      ],
      "metadata": {
        "id": "FA7UKT1Y3PXa"
      }
    },
    {
      "cell_type": "code",
      "source": [
        "# Calculate predictions for the test data using weights from gradient descent\n",
        "test_predictions_gd = np.dot(weights.T, Test_data).flatten()\n",
        "\n",
        "# Calculate the squared differences between true labels and predictions\n",
        "squared_errors_test_gd = (test_labels - test_predictions_gd) ** 2\n",
        "\n",
        "# Calculate the mean of the squared errors\n",
        "mean_squared_error_test_gd = np.mean(squared_errors_test_gd)\n",
        "\n",
        "# Calculate the root mean squared error (loss)\n",
        "rmse_loss_test_gd = np.sqrt(mean_squared_error_test_gd)\n",
        "\n",
        "print(\"Loss (RMSE) for the test data using gradient descent:\", rmse_loss_test_gd)"
      ],
      "metadata": {
        "id": "QcQo1czVo0F9",
        "outputId": "6868d790-7cc8-44ad-bd0b-74f8e5961159",
        "colab": {
          "base_uri": "https://localhost:8080/"
        }
      },
      "execution_count": 16,
      "outputs": [
        {
          "output_type": "stream",
          "name": "stdout",
          "text": [
            "Loss (RMSE) for the test data using gradient descent: 24.888470189616584\n"
          ]
        }
      ]
    },
    {
      "cell_type": "markdown",
      "source": [
        "## Question 11\n",
        "Find the weights using the stochastic gradient descent. Use a constant learning rate of $\\eta = 10^{-8}$. Initialize the weight vector as zero vector and update the weights for 1000 iterations. . Take the batch size of $⌈\\text{number of samples}/5⌉ $. For sampling the batch examples in $ith$ iteration, set seed at $i$. The final weight is the last updated weight. Do not take the avearge of weights updated in all the iterations. Enter the sum of all the weights.\n",
        "\n",
        "\n"
      ],
      "metadata": {
        "id": "-AoLsBKc31Ul"
      }
    },
    {
      "cell_type": "code",
      "source": [
        "# prompt: i am getting error\n",
        "\n",
        "# Initialize weights as a zero vector. The shape should be (d+1, 1)\n",
        "d = Training_data.shape[0] - 1\n",
        "weights_sgd = np.zeros((d + 1, 1))\n",
        "\n",
        "# Set the learning rate\n",
        "learning_rate_sgd = 1e-8\n",
        "\n",
        "# Set the number of iterations\n",
        "num_iterations_sgd = 1000\n",
        "\n",
        "# Get the number of training examples\n",
        "n_train_sgd = Training_data.shape[1]\n",
        "\n",
        "# Calculate batch size\n",
        "batch_size_sgd = int(np.ceil(n_train_sgd / 5))\n",
        "\n",
        "# Perform stochastic gradient descent\n",
        "for i in range(num_iterations_sgd):\n",
        "    # Set the random seed for reproducibility for this iteration\n",
        "    np.random.seed(i)\n",
        "\n",
        "    # Randomly select indices for the batch\n",
        "    batch_indices = np.random.choice(n_train_sgd, batch_size_sgd, replace=False)\n",
        "\n",
        "    # Get the batch of training data and labels\n",
        "    training_batch = Training_data[:, batch_indices]\n",
        "    labels_batch = labels[batch_indices].reshape(-1, 1) # Ensure labels_batch has shape (batch_size, 1)\n",
        "\n",
        "    # Calculate the predictions for the batch\n",
        "    predictions_batch = np.dot(weights_sgd.T, training_batch)\n",
        "\n",
        "    # Calculate the error for the batch\n",
        "    error_batch = labels_batch.T - predictions_batch\n",
        "\n",
        "    # Calculate the gradient of the cost function for the batch\n",
        "    # The gradient for a batch is -2/batch_size * X_batch * (Y_batch - Y_hat_batch).T\n",
        "    gradient_sgd = -2/batch_size_sgd * np.dot(training_batch, error_batch.T)\n",
        "\n",
        "    # Update the weights\n",
        "    weights_sgd = weights_sgd - learning_rate_sgd * gradient_sgd\n",
        "\n",
        "# Calculate the sum of all the weights after the last update\n",
        "sum_of_weights_sgd = np.sum(weights_sgd)\n",
        "\n",
        "print(\"Sum of all weights after 1000 iterations of stochastic gradient descent:\", sum_of_weights_sgd)\n"
      ],
      "metadata": {
        "id": "dx1fQmoho8XS",
        "outputId": "afa70db4-1603-4122-b356-911090a64af5",
        "colab": {
          "base_uri": "https://localhost:8080/"
        }
      },
      "execution_count": 20,
      "outputs": [
        {
          "output_type": "stream",
          "name": "stdout",
          "text": [
            "Sum of all weights after 1000 iterations of stochastic gradient descent: 0.06524986178321131\n"
          ]
        }
      ]
    },
    {
      "cell_type": "markdown",
      "source": [
        "## Question 12\n",
        "\n",
        "Find the loss for the training data points if the model is learnt using the stochastic gradient descent as in question 11. Consider the loss to be defined as\n",
        "\n",
        "$$ \\sqrt{\\dfrac{1}{n}\\sum\\limits_{i=1}^{n} (y_i- \\hat{y}_i)^2}\n",
        "$$\n",
        "\n",
        "Where $\\hat{y}_i$ is the prediction for $i^{th}$ data point.\n",
        "\n"
      ],
      "metadata": {
        "id": "yPzJLciH4NrV"
      }
    },
    {
      "cell_type": "code",
      "source": [
        "# Calculate predictions for the training data using weights from stochastic gradient descent\n",
        "train_predictions_sgd = np.dot(weights_sgd.T, Training_data).flatten()\n",
        "\n",
        "# Calculate the squared differences between true labels and predictions\n",
        "squared_errors_train_sgd = (labels.flatten() - train_predictions_sgd) ** 2\n",
        "\n",
        "# Calculate the mean of the squared errors\n",
        "mean_squared_error_train_sgd = np.mean(squared_errors_train_sgd)\n",
        "\n",
        "# Calculate the root mean squared error (loss)\n",
        "rmse_loss_train_sgd = np.sqrt(mean_squared_error_train_sgd)\n",
        "\n",
        "print(\"Loss (RMSE) for the training data using stochastic gradient descent:\", rmse_loss_train_sgd)"
      ],
      "metadata": {
        "id": "R9wLlD9bpL-R",
        "outputId": "b5151fab-336d-46a8-dbc7-36d6da754ced",
        "colab": {
          "base_uri": "https://localhost:8080/"
        }
      },
      "execution_count": 21,
      "outputs": [
        {
          "output_type": "stream",
          "name": "stdout",
          "text": [
            "Loss (RMSE) for the training data using stochastic gradient descent: 10.215826867450467\n"
          ]
        }
      ]
    },
    {
      "cell_type": "markdown",
      "source": [
        "## Question 13\n",
        "\n",
        "Find the loss for the test data points if the model is learnt using the stochastic gradient descent as in question 11. Consider the loss to be defined as\n",
        "\n",
        "$$ \\sqrt{\\dfrac{1}{n}\\sum\\limits_{i=1}^{n} (y_i- \\hat{y}_i)^2}\n",
        "$$\n",
        "\n",
        "Where $\\hat{y}_i$ is the prediction for $i^{th}$ data point.\n"
      ],
      "metadata": {
        "id": "rfeamQM94x_N"
      }
    },
    {
      "cell_type": "code",
      "source": [
        "# Calculate predictions for the test data using weights from stochastic gradient descent\n",
        "test_predictions_sgd = np.dot(weights_sgd.T, Test_data).flatten()\n",
        "\n",
        "# Calculate the squared differences between true labels and predictions\n",
        "squared_errors_test_sgd = (test_labels - test_predictions_sgd) ** 2\n",
        "\n",
        "# Calculate the mean of the squared errors\n",
        "mean_squared_error_test_sgd = np.mean(squared_errors_test_sgd)\n",
        "\n",
        "# Calculate the root mean squared error (loss)\n",
        "rmse_loss_test_sgd = np.sqrt(mean_squared_error_test_sgd)\n",
        "\n",
        "print(\"Loss (RMSE) for the test data using stochastic gradient descent:\", rmse_loss_test_sgd)"
      ],
      "metadata": {
        "id": "E-Ho4VGUpRiT",
        "outputId": "7b9f6e03-5432-45b3-9c35-f77589a27510",
        "colab": {
          "base_uri": "https://localhost:8080/"
        }
      },
      "execution_count": 22,
      "outputs": [
        {
          "output_type": "stream",
          "name": "stdout",
          "text": [
            "Loss (RMSE) for the test data using stochastic gradient descent: 9.9055652209872\n"
          ]
        }
      ]
    },
    {
      "cell_type": "markdown",
      "source": [
        "# Section 2:\n",
        "\n",
        "**kernel Regression**"
      ],
      "metadata": {
        "id": "muMOKLvY5D9O"
      }
    },
    {
      "cell_type": "markdown",
      "source": [
        "We will generate the synthetic dataset for the kernel regression problem. Run the following cell to get the following variables:\n",
        "\n",
        "`X` = Training data matrix of shape $(n, d)$. In the given dataset $d = 1$.\n",
        "\n",
        "`y` = label vector corresponding to the training dataset"
      ],
      "metadata": {
        "id": "pDAKRJua6rCU"
      }
    },
    {
      "cell_type": "code",
      "source": [
        "# n = 200\n",
        "# d = 1\n",
        "np.random.seed(0)\n",
        "rng = np.random.default_rng(seed = 101)\n",
        "X = np.arange(-2, 2, 0.01).reshape(-1, 1)\n",
        "y = X**3 + rng.normal(0, 1, X.shape[0]).reshape(-1, 1)\n",
        "\n",
        "plt.figure()\n",
        "plt.plot(X, y, '.')\n",
        "plt.title(\"Synthetic Data for Kernel Regression\")\n",
        "plt.xlabel(\"X\")\n",
        "plt.ylabel(\"y\")\n",
        "plt.show()"
      ],
      "metadata": {
        "id": "8t-dQKE4pYhL",
        "outputId": "2064d3fd-10c4-4cc5-a78e-519fef010baf",
        "colab": {
          "base_uri": "https://localhost:8080/",
          "height": 472
        }
      },
      "execution_count": 24,
      "outputs": [
        {
          "output_type": "display_data",
          "data": {
            "text/plain": [
              "<Figure size 640x480 with 1 Axes>"
            ],
            "image/png": "[encoded data removed]"
          },
          "metadata": {}
        }
      ]
    },
    {
      "cell_type": "markdown",
      "source": [
        "## Question 14\n",
        "\n",
        "Plot the scatter plot between feature and the labels. Enter your answer as 0.\n",
        "\n"
      ],
      "metadata": {
        "id": "y_-9lyPm8aaj"
      }
    },
    {
      "cell_type": "code",
      "source": [
        "plt.figure()\n",
        "plt.scatter(X, y)\n",
        "plt.title(\"Scatter Plot of Feature vs Labels\")\n",
        "plt.xlabel(\"Feature (X)\")\n",
        "plt.ylabel(\"Label (y)\")\n",
        "plt.show()"
      ],
      "metadata": {
        "id": "RIB5xaXepsRX",
        "outputId": "21e696aa-0ab7-4f22-aea7-5db9896169b5",
        "colab": {
          "base_uri": "https://localhost:8080/",
          "height": 472
        }
      },
      "execution_count": 25,
      "outputs": [
        {
          "output_type": "display_data",
          "data": {
            "text/plain": [
              "<Figure size 640x480 with 1 Axes>"
            ],
            "image/png": "[encoded data removed]"
          },
          "metadata": {}
        }
      ]
    },
    {
      "cell_type": "markdown",
      "source": [
        "## Question 15\n",
        "How many examples are there in the training dataset?\n",
        "\n"
      ],
      "metadata": {
        "id": "E3e-gQHg8z8x"
      }
    },
    {
      "cell_type": "code",
      "source": [
        "Training_data.shape[0]"
      ],
      "metadata": {
        "id": "AHe1gj2ppxm4",
        "outputId": "ac215422-84b8-4823-9b7c-254f663c3477",
        "colab": {
          "base_uri": "https://localhost:8080/"
        }
      },
      "execution_count": 26,
      "outputs": [
        {
          "output_type": "execute_result",
          "data": {
            "text/plain": [
              "14"
            ]
          },
          "metadata": {},
          "execution_count": 26
        }
      ]
    },
    {
      "cell_type": "markdown",
      "source": [
        "## Task:\n",
        "\n",
        "Add the dummy feature in the feature matrix `X`and reshape it to the shape $(d, n)$."
      ],
      "metadata": {
        "id": "uPifeX-K9zuU"
      }
    },
    {
      "cell_type": "code",
      "source": [
        "# Add the dummy feature (a row of ones) to the feature matrix X\n",
        "X = np.insert(X.T, 0, 1, axis=0)\n",
        "\n",
        "print(\"Shape of X after adding dummy feature and reshaping:\", X.shape)"
      ],
      "metadata": {
        "id": "ZrcOtkLnp2sR",
        "outputId": "df9803ae-d899-40e3-fba7-b08087623706",
        "colab": {
          "base_uri": "https://localhost:8080/"
        }
      },
      "execution_count": 27,
      "outputs": [
        {
          "output_type": "stream",
          "name": "stdout",
          "text": [
            "Shape of X after adding dummy feature and reshaping: (2, 400)\n"
          ]
        }
      ]
    },
    {
      "cell_type": "markdown",
      "source": [
        "## Question 16\n",
        "\n",
        "Our task is to apply the kernel regression with polynomial kernel of degree 3. We know that weight vector can be written as\n",
        "\n",
        "$$w = \\phi(\\mathbb{x})\\alpha$$\n",
        "\n",
        "let us call the vector $\\alpha$ as coefficient vector. Find the sum of elements in the coefficient vector.\n",
        "\n"
      ],
      "metadata": {
        "id": "HQtBOQua_HQB"
      }
    },
    {
      "cell_type": "code",
      "source": [
        "# Polynomial kernel function of degree 3\n",
        "def polynomial_kernel(x1, x2, degree=3):\n",
        "    return (1 + np.dot(x1.T, x2)) ** degree\n",
        "\n",
        "# Build the kernel matrix K for the training data\n",
        "n_samples = X.shape[1]\n",
        "K = np.zeros((n_samples, n_samples))\n",
        "for i in range(n_samples):\n",
        "    for j in range(n_samples):\n",
        "        K[i, j] = polynomial_kernel(X[:, i].reshape(-1, 1), X[:, j].reshape(-1, 1))\n",
        "\n",
        "# Ensure y is a column vector\n",
        "y = y.reshape(-1, 1)\n",
        "\n",
        "# Calculate the coefficient vector alpha\n",
        "# alpha = (K)^-1 * y\n",
        "# Add a small regularization term to the diagonal of K for stability if needed\n",
        "# identity_matrix = np.eye(n_samples)\n",
        "# K_regularized = K + lambda_reg * identity_matrix\n",
        "# alpha = np.dot(np.linalg.inv(K_regularized), y)\n",
        "\n",
        "alpha = np.dot(np.linalg.pinv(K), y) # Use pseudo-inverse for robustness\n",
        "\n",
        "# Calculate the sum of elements in the coefficient vector alpha\n",
        "sum_of_alpha = np.sum(alpha)\n",
        "\n",
        "print(\"Sum of elements in the coefficient vector alpha:\", sum_of_alpha)"
      ],
      "metadata": {
        "id": "7UJ40oCIp_5R",
        "outputId": "f2c779c1-d4e4-4057-f924-216ef3e2f70f",
        "colab": {
          "base_uri": "https://localhost:8080/"
        }
      },
      "execution_count": 28,
      "outputs": [
        {
          "output_type": "stream",
          "name": "stderr",
          "text": [
            "/tmp/ipython-input-28-1742870603.py:14: DeprecationWarning: Conversion of an array with ndim > 0 to a scalar is deprecated, and will error in future. Ensure you extract a single element from your array before performing this operation. (Deprecated NumPy 1.25.)\n",
            "  K[i, j] = polynomial_kernel(X[:, i].reshape(-1, 1), X[:, j].reshape(-1, 1))\n"
          ]
        },
        {
          "output_type": "stream",
          "name": "stdout",
          "text": [
            "Sum of elements in the coefficient vector alpha: -0.018712997436523438\n"
          ]
        }
      ]
    },
    {
      "cell_type": "markdown",
      "source": [
        "## Question 17\n",
        "\n",
        "Find the sum of the predictions made by the kernel regression model of degree 3.\n",
        "\n"
      ],
      "metadata": {
        "id": "Xq0YtsGjA7IK"
      }
    },
    {
      "cell_type": "code",
      "source": [
        "# Calculate predictions using the training data kernel matrix K and the learned alpha\n",
        "predictions_kernel_train = np.dot(K, alpha)\n",
        "\n",
        "# Calculate the sum of the predictions\n",
        "sum_of_predictions_kernel_train = np.sum(predictions_kernel_train)\n",
        "\n",
        "print(\"Sum of the predictions made by the kernel regression model (on training data):\", sum_of_predictions_kernel_train)"
      ],
      "metadata": {
        "id": "TaHAO_EcrEgn",
        "outputId": "726cfbc4-225f-43d2-f3a6-aa6aac583ac7",
        "colab": {
          "base_uri": "https://localhost:8080/"
        }
      },
      "execution_count": 29,
      "outputs": [
        {
          "output_type": "stream",
          "name": "stdout",
          "text": [
            "Sum of the predictions made by the kernel regression model (on training data): -33.763994216918945\n"
          ]
        }
      ]
    },
    {
      "cell_type": "markdown",
      "source": [
        "## Question 18\n",
        "\n",
        "Find the loss for the training data points. Consider the loss to be defined as\n",
        "\n",
        "$$ \\sqrt{\\dfrac{1}{n}\\sum\\limits_{i=1}^{n} (y_i- \\hat{y}_i)^2}\n",
        "$$\n",
        "\n",
        "Where $\\hat{y}_i$ is the prediction for $i^{th}$ data point.\n",
        "\n"
      ],
      "metadata": {
        "id": "pXRpijIeCcSr"
      }
    },
    {
      "cell_type": "code",
      "source": [
        "# Calculate the squared differences between true labels and predictions\n",
        "squared_errors_kernel_train = (y - predictions_kernel_train) ** 2\n",
        "\n",
        "# Calculate the mean of the squared errors\n",
        "mean_squared_error_kernel_train = np.mean(squared_errors_kernel_train)\n",
        "\n",
        "# Calculate the root mean squared error (loss)\n",
        "rmse_loss_kernel_train = np.sqrt(mean_squared_error_kernel_train)\n",
        "\n",
        "print(\"Loss (RMSE) for the training data using kernel regression (degree 3):\", rmse_loss_kernel_train)"
      ],
      "metadata": {
        "id": "0sra29JzrMNR",
        "outputId": "bfdd19eb-8fef-4625-afb1-9cbce5850027",
        "colab": {
          "base_uri": "https://localhost:8080/"
        }
      },
      "execution_count": 30,
      "outputs": [
        {
          "output_type": "stream",
          "name": "stdout",
          "text": [
            "Loss (RMSE) for the training data using kernel regression (degree 3): 1.0064257450692242\n"
          ]
        }
      ]
    },
    {
      "cell_type": "markdown",
      "source": [
        "### Test dataset\n",
        "\n",
        "run the following cell to get the test data matrix `X_test` and corresponding label vector `y_test`."
      ],
      "metadata": {
        "id": "nGpw3zpI65rm"
      }
    },
    {
      "cell_type": "code",
      "source": [
        "rng = np.random.default_rng(seed = 102)\n",
        "Xnew = np.arange(-2, 2, 0.03)\n",
        "ynew = Xnew**3 + rng.normal(0, 1.5, Xnew.shape[0])\n",
        "X_test = np.column_stack((np.ones(Xnew.shape[0]), Xnew.reshape(-1, 1))).T\n",
        "y_test = ynew.reshape(-1, 1)\n",
        "plt.scatter(Xnew,ynew)"
      ],
      "metadata": {
        "colab": {
          "base_uri": "https://localhost:8080/",
          "height": 448
        },
        "id": "fLNDYH_B67kN",
        "outputId": "0d431f6c-ca20-4a84-c240-c51ebbf05eb4"
      },
      "execution_count": 31,
      "outputs": [
        {
          "output_type": "execute_result",
          "data": {
            "text/plain": [
              "<matplotlib.collections.PathCollection at 0x7e9698517e90>"
            ]
          },
          "metadata": {},
          "execution_count": 31
        },
        {
          "output_type": "display_data",
          "data": {
            "text/plain": [
              "<Figure size 640x480 with 1 Axes>"
            ],
            "image/png": "[encoded data removed]"
          },
          "metadata": {}
        }
      ]
    },
    {
      "cell_type": "markdown",
      "source": [
        "## Question 19\n",
        "\n",
        "Find the loss for the test data points. Consider the loss to be defined as\n",
        "\n",
        "$$ \\sqrt{\\dfrac{1}{n}\\sum\\limits_{i=1}^{n} (y_i- \\hat{y}_i)^2}\n",
        "$$\n",
        "\n",
        "Where $\\hat{y}_i$ is the prediction for $i^{th}$ data point.\n",
        "\n"
      ],
      "metadata": {
        "id": "5vlunIBzDI1_"
      }
    },
    {
      "cell_type": "code",
      "source": [
        "# Build the kernel matrix K_test between the training data (X) and test data (X_test)\n",
        "n_train_samples = X.shape[1]\n",
        "n_test_samples = X_test.shape[1]\n",
        "K_test = np.zeros((n_test_samples, n_train_samples))\n",
        "for i in range(n_test_samples):\n",
        "    for j in range(n_train_samples):\n",
        "        K_test[i, j] = polynomial_kernel(X_test[:, i].reshape(-1, 1), X[:, j].reshape(-1, 1))\n",
        "\n",
        "# Calculate predictions for the test data using the learned alpha and K_test\n",
        "predictions_kernel_test = np.dot(K_test, alpha)\n",
        "\n",
        "# Calculate the squared differences between true test labels and predictions\n",
        "squared_errors_kernel_test = (y_test - predictions_kernel_test) ** 2\n",
        "\n",
        "# Calculate the mean of the squared errors\n",
        "mean_squared_error_kernel_test = np.mean(squared_errors_kernel_test)\n",
        "\n",
        "# Calculate the root mean squared error (loss)\n",
        "rmse_loss_kernel_test = np.sqrt(mean_squared_error_kernel_test)\n",
        "\n",
        "print(\"Loss (RMSE) for the test data using kernel regression (degree 3):\", rmse_loss_kernel_test)"
      ],
      "metadata": {
        "id": "ZRr9lV6NrSr_",
        "outputId": "1feb274e-c89d-4e17-e2d4-21c5cb954f68",
        "colab": {
          "base_uri": "https://localhost:8080/"
        }
      },
      "execution_count": 32,
      "outputs": [
        {
          "output_type": "stream",
          "name": "stderr",
          "text": [
            "/tmp/ipython-input-32-341315329.py:7: DeprecationWarning: Conversion of an array with ndim > 0 to a scalar is deprecated, and will error in future. Ensure you extract a single element from your array before performing this operation. (Deprecated NumPy 1.25.)\n",
            "  K_test[i, j] = polynomial_kernel(X_test[:, i].reshape(-1, 1), X[:, j].reshape(-1, 1))\n"
          ]
        },
        {
          "output_type": "stream",
          "name": "stdout",
          "text": [
            "Loss (RMSE) for the test data using kernel regression (degree 3): 1.5684394574764726\n"
          ]
        }
      ]
    }
  ]
}