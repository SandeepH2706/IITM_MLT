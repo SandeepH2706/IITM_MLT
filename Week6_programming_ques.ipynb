{
  "nbformat": 4,
  "nbformat_minor": 0,
  "metadata": {
    "colab": {
      "provenance": [],
      "include_colab_link": true
    },
    "kernelspec": {
      "name": "python3",
      "display_name": "Python 3"
    },
    "language_info": {
      "name": "python"
    }
  },
  "cells": [
    {
      "cell_type": "markdown",
      "metadata": {
        "id": "view-in-github",
        "colab_type": "text"
      },
      "source": [
        "<a href=\"https://colab.research.google.com/github/SandeepH2706/IITM_MLT/blob/main/Week6_programming_ques.ipynb\" target=\"_parent\"><img src=\"https://colab.research.google.com/assets/colab-badge.svg\" alt=\"Open In Colab\"/></a>"
      ]
    },
    {
      "cell_type": "code",
      "execution_count": 1,
      "metadata": {
        "id": "3TDibK0Yrxm_"
      },
      "outputs": [],
      "source": [
        "import numpy as np\n",
        "import matplotlib.pyplot as plt\n"
      ]
    },
    {
      "cell_type": "markdown",
      "source": [
        "# Week-6\n",
        "\n",
        "**Note:**:\n",
        "\n",
        "- For questions that involve plotting, just enter $0$ as the answer in the portal.\n",
        "\n"
      ],
      "metadata": {
        "id": "1TBHlt7hAdN1"
      }
    },
    {
      "cell_type": "markdown",
      "source": [
        "## Dataset\n",
        "\n",
        "Run the cell given below to generate the data-matrix $X$ and target vector $y$. $X$ is of shape $(n, d)$, where $n$ denotes the number of samples and $d$ denotes the number of features. $y$ is of shape $(n,)$. You will be using this dataset for the rest of the assignment.\n",
        "\n",
        "**Do not edit this cell.**"
      ],
      "metadata": {
        "id": "XJKrscLo9qwH"
      }
    },
    {
      "cell_type": "code",
      "source": [
        "from sklearn.datasets import load_diabetes, make_regression\n",
        "X, y = load_diabetes(return_X_y = True)\n",
        "X, y = make_regression(n_samples=200, n_features=2, noise=10, random_state=42)\n",
        "np.random.seed(0)"
      ],
      "metadata": {
        "id": "GIygEzr49Xvf"
      },
      "execution_count": 29,
      "outputs": []
    },
    {
      "cell_type": "markdown",
      "source": [
        "## Problem 1\n",
        "How many samples are there in the dataset?\n",
        "\n"
      ],
      "metadata": {
        "id": "VAONMkaU91v7"
      }
    },
    {
      "cell_type": "markdown",
      "source": [
        "## Solution"
      ],
      "metadata": {
        "id": "LnXmn5t-V8Us"
      }
    },
    {
      "cell_type": "code",
      "source": [
        "X, y = load_diabetes(return_X_y = True)\n",
        "X.shape[0]"
      ],
      "metadata": {
        "id": "nQAIMeJc9vUI",
        "outputId": "ba98f544-a7ab-454d-cf55-d25ed529c7b6",
        "colab": {
          "base_uri": "https://localhost:8080/"
        }
      },
      "execution_count": 23,
      "outputs": [
        {
          "output_type": "execute_result",
          "data": {
            "text/plain": [
              "442"
            ]
          },
          "metadata": {},
          "execution_count": 23
        }
      ]
    },
    {
      "cell_type": "markdown",
      "source": [
        "## Problem 2\n",
        "\n",
        "How many features are there in the dataset?\n",
        "\n"
      ],
      "metadata": {
        "id": "ozjMS6e_91y3"
      }
    },
    {
      "cell_type": "markdown",
      "source": [
        "## Solution"
      ],
      "metadata": {
        "id": "xvFvIHN9V_s7"
      }
    },
    {
      "cell_type": "code",
      "source": [
        "X.shape[1]"
      ],
      "metadata": {
        "id": "KcEb6e0795Kr",
        "outputId": "b0706749-ff2f-442c-dba6-e8ede788bf1b",
        "colab": {
          "base_uri": "https://localhost:8080/"
        }
      },
      "execution_count": 6,
      "outputs": [
        {
          "output_type": "execute_result",
          "data": {
            "text/plain": [
              "10"
            ]
          },
          "metadata": {},
          "execution_count": 6
        }
      ]
    },
    {
      "cell_type": "markdown",
      "source": [
        "## Problem 3\n",
        "Write a function `shuffle_data(X, y)` that returns the shuffled $X$ and $y$.\n",
        "\n",
        "Note that it should shuffle the data pairs $(x_i, y_i)$.\n",
        "\n",
        "What will be the mean of the first 5 values in $y$?\n",
        "\n"
      ],
      "metadata": {
        "id": "HxIZaojUVGIL"
      }
    },
    {
      "cell_type": "code",
      "source": [
        "def shuffle_data(X, y):\n",
        "  indices = np.arange(X.shape[0])\n",
        "  np.random.shuffle(indices)\n",
        "  return X[indices], y[indices]\n",
        "\n",
        "X_shuffled, y_shuffled = shuffle_data(X, y)\n",
        "mean_first_5 = np.mean(y_shuffled[:5])\n",
        "mean_first_5"
      ],
      "metadata": {
        "id": "bFoZr7Jr98qb",
        "outputId": "5cb7b932-4d7c-43cb-be46-2439103873d1",
        "colab": {
          "base_uri": "https://localhost:8080/"
        }
      },
      "execution_count": 7,
      "outputs": [
        {
          "output_type": "execute_result",
          "data": {
            "text/plain": [
              "np.float64(180.4)"
            ]
          },
          "metadata": {},
          "execution_count": 7
        }
      ]
    },
    {
      "cell_type": "markdown",
      "source": [
        "## Problem 4\n",
        "\n",
        "Write a function `train_test_split(X, y, test_size)` that divides the data (X, y) into $X_{train}$, $X_{test}$, $y_{train}$, $y_{test}$ respectively as per test_size which should be a value between 0 and 1.\n",
        "\n",
        "That is, if test_size = $t$, then `int(t*n)` data points should go to test and the remaining data points should go to train.\n",
        "\n",
        "$X_{train}$, $X_{test}$, $y_{train}$, $y_{test}$ should be returned by the function.\n",
        "\n",
        "Set the test_size to be 0.25 and output the sum of all y values settling in $y_{test}$.\n",
        "\n",
        "\n",
        "\n",
        "\n",
        "\n",
        "\n"
      ],
      "metadata": {
        "id": "pfsUsn_8WSXZ"
      }
    },
    {
      "cell_type": "code",
      "source": [
        "def train_test_split(X, y, test_size):\n",
        "  n = X.shape[0]\n",
        "  test_samples = int(test_size * n)\n",
        "  X_train = X[test_samples:]\n",
        "  X_test = X[:test_samples]\n",
        "  y_train = y[test_samples:]\n",
        "  y_test = y[:test_samples]\n",
        "  return X_train, X_test, y_train, y_test\n",
        "\n",
        "test_size = 0.25\n",
        "X_train, X_test, y_train, y_test = train_test_split(X_shuffled, y_shuffled, test_size)\n",
        "\n",
        "sum_y_test = np.sum(y_test)\n",
        "sum_y_test"
      ],
      "metadata": {
        "id": "hPixBCpa-Ckb",
        "outputId": "fb3e4bca-01ba-4aff-d617-be702b03bca6",
        "colab": {
          "base_uri": "https://localhost:8080/"
        }
      },
      "execution_count": 8,
      "outputs": [
        {
          "output_type": "execute_result",
          "data": {
            "text/plain": [
              "np.float64(16779.0)"
            ]
          },
          "metadata": {},
          "execution_count": 8
        }
      ]
    },
    {
      "cell_type": "markdown",
      "source": [
        "## Problem 5\n",
        "\n",
        "What are the shapes of $X_{train}$, $X_{test}$, $y_{train}$, $y_{test}$ respectively?\n",
        "\n"
      ],
      "metadata": {
        "id": "D67g0r9ad8Ea"
      }
    },
    {
      "cell_type": "code",
      "source": [
        "print(X_train.shape)\n",
        "print(X_test.shape)\n",
        "print(y_train.shape)\n",
        "y_test.shape"
      ],
      "metadata": {
        "id": "-Q37WMUy-H51",
        "outputId": "d6fdd6fc-17f7-48de-ca61-59816b4736df",
        "colab": {
          "base_uri": "https://localhost:8080/"
        }
      },
      "execution_count": 9,
      "outputs": [
        {
          "output_type": "stream",
          "name": "stdout",
          "text": [
            "(332, 10)\n",
            "(110, 10)\n",
            "(332,)\n"
          ]
        },
        {
          "output_type": "execute_result",
          "data": {
            "text/plain": [
              "(110,)"
            ]
          },
          "metadata": {},
          "execution_count": 9
        }
      ]
    },
    {
      "cell_type": "markdown",
      "source": [
        "## Problem 6\n",
        "Add a dummy feature, i.e., a column containing all 1's (as the first column) in $X_{train}$ and $X_{test}$.\n",
        "\n",
        "Take the transpose of both $X_{train}$ and $X_{test}$.\n",
        "\n",
        "What are the shapes of $X_{train}$ and $X_{test}$?\n",
        "\n"
      ],
      "metadata": {
        "id": "nYgSo6DLe0n-"
      }
    },
    {
      "cell_type": "code",
      "source": [
        "X_train = np.insert(X_train, 0, 1, axis=1)\n",
        "X_test = np.insert(X_test, 0, 1, axis=1)\n",
        "X_train = X_train.T\n",
        "X_test = X_test.T\n",
        "print(X_train.shape)\n",
        "X_test.shape"
      ],
      "metadata": {
        "id": "zH7dmuPR-M6b",
        "outputId": "60c7dfa7-7673-48e6-a4d4-65da2e5b1dfe",
        "colab": {
          "base_uri": "https://localhost:8080/"
        }
      },
      "execution_count": 10,
      "outputs": [
        {
          "output_type": "stream",
          "name": "stdout",
          "text": [
            "(11, 332)\n"
          ]
        },
        {
          "output_type": "execute_result",
          "data": {
            "text/plain": [
              "(11, 110)"
            ]
          },
          "metadata": {},
          "execution_count": 10
        }
      ]
    },
    {
      "cell_type": "markdown",
      "source": [
        "## Problem 7\n",
        "\n",
        "Write a function `compute_weights(X, y)` that uses the closed form formula of linear regression and returns a weight vector.\n",
        "\n",
        "Call this function by passing $X_{train}$ and $y_{train}$. As the dummy feature was added as the first column, the first value in the weight vector will be the intercept. What is its value (rounded to one decimal place)?\n",
        "\n"
      ],
      "metadata": {
        "id": "mYY6hNkYf7gr"
      }
    },
    {
      "cell_type": "code",
      "source": [
        "def compute_weights(X, y):\n",
        "  X_T = X.T\n",
        "  weights = np.linalg.inv(X_T @ X) @ X_T @ y\n",
        "  return weights\n",
        "\n",
        "weights = compute_weights(X_train.T, y_train)\n",
        "intercept = round(weights[0], 1)\n",
        "intercept"
      ],
      "metadata": {
        "id": "_GXD5KV1-Q-t",
        "outputId": "73acfd3c-33ed-4ff7-9634-253b67de1c01",
        "colab": {
          "base_uri": "https://localhost:8080/"
        }
      },
      "execution_count": 11,
      "outputs": [
        {
          "output_type": "execute_result",
          "data": {
            "text/plain": [
              "np.float64(153.0)"
            ]
          },
          "metadata": {},
          "execution_count": 11
        }
      ]
    },
    {
      "cell_type": "markdown",
      "source": [
        "## Problem 8\n",
        "\n",
        "Write a function `MSE(X, y, w)` that returns the mean squared error for the given `X`, `y` as per `w` values.\n",
        "\n",
        "Using this function, compute the train error and test error.\n",
        "\n",
        "Note: Here `y` is the true `y` for `X`.\n",
        "\n",
        "Compute both train and test error.\n",
        "\n",
        "What is the value of test error?\n"
      ],
      "metadata": {
        "id": "XUKviVRZoh2j"
      }
    },
    {
      "cell_type": "code",
      "source": [
        "def MSE(X, y, w):\n",
        "  \"\"\"\n",
        "  Computes the Mean Squared Error for given X, y, and weights w.\n",
        "\n",
        "  Args:\n",
        "    X: The input data matrix (with dummy feature if used).\n",
        "    y: The true target vector.\n",
        "    w: The weight vector.\n",
        "\n",
        "  Returns:\n",
        "    The Mean Squared Error.\n",
        "  \"\"\"\n",
        "  y_pred = X.T @ w\n",
        "  mse = np.mean((y_pred - y) ** 2)\n",
        "  return mse\n",
        "\n",
        "# Compute train error\n",
        "train_error = MSE(X_train, y_train, weights)\n",
        "print(f\"Train Error: {train_error}\")\n",
        "\n",
        "# Compute test error\n",
        "test_error = MSE(X_test, y_test, weights)\n",
        "print(f\"Test Error: {test_error}\")"
      ],
      "metadata": {
        "id": "DzDZBQrN-VAS",
        "outputId": "abdc4704-1ece-40cb-f87c-5225bd2eab02",
        "colab": {
          "base_uri": "https://localhost:8080/"
        }
      },
      "execution_count": 24,
      "outputs": [
        {
          "output_type": "stream",
          "name": "stdout",
          "text": [
            "Train Error: 2772.566002063824\n",
            "Test Error: 3205.7177135064812\n"
          ]
        }
      ]
    },
    {
      "cell_type": "markdown",
      "source": [
        "## Problem 9\n",
        "\n",
        "Write a function `compute_weights_ridge(X, y)` that uses the closed form formula of Ridge regression and returns a weight vector.\n",
        "\n",
        "Call this function by passing  `X_train`, `y_train` and 0.3 as the value of regularization strength.\n",
        "\n",
        "\n",
        "Find the sum of values in the weight vector obtained. How much reduction in total sum of weights is achieved with respect to the the weight vector obtained from 'plain' linear regression (without regularization) computed earlier.\n"
      ],
      "metadata": {
        "id": "mZZVbejulHyv"
      }
    },
    {
      "cell_type": "code",
      "source": [
        "def compute_weights_ridge(X, y, alpha):\n",
        "  \"\"\"\n",
        "  Computes the weights for Ridge regression using the closed form formula.\n",
        "\n",
        "  Args:\n",
        "    X: The input data matrix (with dummy feature as the first column).\n",
        "    y: The true target vector.\n",
        "    alpha: The regularization strength.\n",
        "\n",
        "  Returns:\n",
        "    The weight vector.\n",
        "  \"\"\"\n",
        "  n_features = X.shape[0]  # Number of features including the dummy feature\n",
        "  identity_matrix = np.identity(n_features)\n",
        "  # Do not regularize the intercept term (the first weight)\n",
        "  identity_matrix[0, 0] = 0\n",
        "\n",
        "  weights_ridge = np.linalg.inv(X @ X.T + alpha * identity_matrix) @ X @ y\n",
        "  return weights_ridge\n",
        "\n",
        "alpha = 0.3\n",
        "weights_ridge = compute_weights_ridge(X_train, y_train, alpha)\n",
        "\n",
        "sum_weights_plain = np.sum(weights)\n",
        "sum_weights_ridge = np.sum(weights_ridge)\n",
        "\n",
        "reduction_in_sum = sum_weights_plain - sum_weights_ridge\n",
        "\n",
        "print(f\"Sum of weights (plain linear regression): {sum_weights_plain}\")\n",
        "print(f\"Sum of weights (Ridge regression with alpha={alpha}): {sum_weights_ridge}\")\n",
        "print(f\"Reduction in total sum of weights: {reduction_in_sum}\")\n"
      ],
      "metadata": {
        "id": "uQHPNgJp-kaV",
        "outputId": "cc882676-22a2-4872-be07-314a6dcb2bbb",
        "colab": {
          "base_uri": "https://localhost:8080/"
        }
      },
      "execution_count": 25,
      "outputs": [
        {
          "output_type": "stream",
          "name": "stdout",
          "text": [
            "Sum of weights (plain linear regression): 1358.0685020602698\n",
            "Sum of weights (Ridge regression with alpha=0.3): 984.8648753092257\n",
            "Reduction in total sum of weights: 373.2036267510441\n"
          ]
        }
      ]
    },
    {
      "cell_type": "markdown",
      "source": [
        "## Problem 10\n",
        "\n",
        "Compute the train error and test error. What is their absolute difference?\n",
        "\n"
      ],
      "metadata": {
        "id": "LC9Au6sPt1oT"
      }
    },
    {
      "cell_type": "code",
      "source": [
        "# Compute train error for Ridge regression\n",
        "train_error_ridge = MSE(X_train, y_train, weights_ridge)\n",
        "print(f\"Train Error (Ridge): {train_error_ridge}\")\n",
        "\n",
        "# Compute test error for Ridge regression\n",
        "test_error_ridge = MSE(X_test, y_test, weights_ridge)\n",
        "print(f\"Test Error (Ridge): {test_error_ridge}\")\n",
        "\n",
        "# Absolute difference between train error and test error for Ridge regression\n",
        "absolute_difference_errors_ridge = abs(train_error_ridge - test_error_ridge)\n",
        "print(f\"Absolute difference between train and test error (Ridge): {absolute_difference_errors_ridge}\")"
      ],
      "metadata": {
        "id": "JZRT45ld-o3k",
        "outputId": "ccfa6c86-a47f-4132-cff0-e38fa07da31f",
        "colab": {
          "base_uri": "https://localhost:8080/"
        }
      },
      "execution_count": 26,
      "outputs": [
        {
          "output_type": "stream",
          "name": "stdout",
          "text": [
            "Train Error (Ridge): 2914.5165959382875\n",
            "Test Error (Ridge): 3104.2932433552996\n",
            "Absolute difference between train and test error (Ridge): 189.7766474170121\n"
          ]
        }
      ]
    },
    {
      "cell_type": "markdown",
      "source": [
        "## Problem 11\n",
        "\n",
        "Use 10 different values between 0 and 5 as the regularization strength and keep a record of the weight vectors obtained for each. Further, calculate the sum of weights for each weight vector.\n",
        "\n",
        "Plot these sums of weights (on y-axis) with respect to the regularization strength (on x-axis) and observe the reduction in (sum of) weights.\n",
        "\n"
      ],
      "metadata": {
        "id": "Wn6-FG5puh8O"
      }
    },
    {
      "cell_type": "code",
      "source": [
        "# Define a range of alpha values\n",
        "alpha_values = np.linspace(0.01, 5, 10) # Use 10 values between 0 and 5\n",
        "\n",
        "# Lists to store the sum of weights for each alpha\n",
        "sum_of_weights_list = []\n",
        "\n",
        "# Iterate through each alpha value, compute weights, and store the sum\n",
        "for alpha in alpha_values:\n",
        "  weights_ridge = compute_weights_ridge(X_train, y_train, alpha)\n",
        "  sum_of_weights = np.sum(weights_ridge)\n",
        "  sum_of_weights_list.append(sum_of_weights)\n",
        "\n",
        "# Plotting the results\n",
        "plt.figure(figsize=(10, 6))\n",
        "plt.plot(alpha_values, sum_of_weights_list, marker='o', linestyle='-')\n",
        "plt.xlabel(\"Regularization Strength (alpha)\")\n",
        "plt.ylabel(\"Sum of Weights\")\n",
        "plt.title(\"Sum of Weights vs. Regularization Strength\")\n",
        "plt.grid(True)\n",
        "plt.show()"
      ],
      "metadata": {
        "id": "vPcZETi_-7fS",
        "outputId": "187ff100-0e16-4441-81da-d176caa2bb71",
        "colab": {
          "base_uri": "https://localhost:8080/",
          "height": 564
        }
      },
      "execution_count": 27,
      "outputs": [
        {
          "output_type": "display_data",
          "data": {
            "text/plain": [
              "<Figure size 1000x600 with 1 Axes>"
            ],
            "image/png": "[encoded data removed]"
          },
          "metadata": {}
        }
      ]
    }
  ]
}