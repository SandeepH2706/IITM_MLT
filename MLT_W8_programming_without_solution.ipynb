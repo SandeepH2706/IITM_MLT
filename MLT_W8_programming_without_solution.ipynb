{
  "nbformat": 4,
  "nbformat_minor": 0,
  "metadata": {
    "colab": {
      "provenance": [],
      "include_colab_link": true
    },
    "kernelspec": {
      "name": "python3",
      "display_name": "Python 3"
    },
    "language_info": {
      "name": "python"
    }
  },
  "cells": [
    {
      "cell_type": "markdown",
      "metadata": {
        "id": "view-in-github",
        "colab_type": "text"
      },
      "source": [
        "<a href=\"https://colab.research.google.com/github/SandeepH2706/IITM_MLT/blob/main/MLT_W8_programming_without_solution.ipynb\" target=\"_parent\"><img src=\"https://colab.research.google.com/assets/colab-badge.svg\" alt=\"Open In Colab\"/></a>"
      ]
    },
    {
      "cell_type": "code",
      "execution_count": 1,
      "metadata": {
        "id": "IeFUTqbNKOzL"
      },
      "outputs": [],
      "source": [
        "import numpy as np\n",
        "import matplotlib.pyplot as plt"
      ]
    },
    {
      "cell_type": "markdown",
      "source": [
        "# Bernoulli naive Bayes"
      ],
      "metadata": {
        "id": "3KUeTDaZuse4"
      }
    },
    {
      "cell_type": "markdown",
      "source": [
        "Run the below cell to get the following variables:\n",
        "\n",
        "`X` = Data matrix of shape $(n, d)$. All the features are binary taking values $0$ or $1$.\n",
        "\n",
        "`y` = label vector. Labels are $0$ and $1$."
      ],
      "metadata": {
        "id": "xpHCecV1uwdn"
      }
    },
    {
      "cell_type": "code",
      "source": [
        "rng = np.random.default_rng(seed=1)\n",
        "X1 = np.concatenate((rng.binomial(size = 50,n = 1, p =0.7), rng.binomial(size = 50,n = 1, p =0.2))).reshape(-1, 1)\n",
        "X2 = np.concatenate((rng.binomial(size = 50,n = 1, p =0.6), rng.binomial(size = 50,n = 1, p =0.1))).reshape(-1, 1)\n",
        "X3 = np.concatenate((rng.binomial(size = 50,n = 1, p =0.6), rng.binomial(size = 50,n = 1, p =0.2))).reshape(-1, 1)\n",
        "X4 = np.concatenate((rng.binomial(size = 50,n = 1, p =0.8), rng.binomial(size = 50,n = 1, p =0.1))).reshape(-1, 1)\n",
        "\n",
        "\n",
        "X = np.column_stack((X1,X2,X3,X4))\n",
        "\n",
        "y = np.concatenate((np.zeros(50, dtype= int), np.ones(50, dtype = int))).reshape(-1, 1)\n",
        "permute = rng.permuted(range(100))\n",
        "\n",
        "X = X[permute]\n",
        "y = y[permute]\n"
      ],
      "metadata": {
        "id": "0PxEvCrZ3FD_"
      },
      "execution_count": 19,
      "outputs": []
    },
    {
      "cell_type": "markdown",
      "source": [
        "## Question 1\n",
        "If we train the naive Bayes model on the dataset, What will be the value of $\\hat{p}$, the estimate for $P(Y=1)$?\n",
        "\n"
      ],
      "metadata": {
        "id": "Zl_usamKCeY5"
      }
    },
    {
      "cell_type": "code",
      "source": [
        "# Enter your solution here\n",
        "p_hat = np.sum(y == 1) / len(y)\n",
        "print(f\"{p_hat=}\")"
      ],
      "metadata": {
        "id": "J5lPVYy-8yLf",
        "colab": {
          "base_uri": "https://localhost:8080/"
        },
        "outputId": "96e9f397-287d-4aea-ca57-a295d872a826"
      },
      "execution_count": 20,
      "outputs": [
        {
          "output_type": "stream",
          "name": "stdout",
          "text": [
            "p_hat=np.float64(0.5)\n"
          ]
        }
      ]
    },
    {
      "cell_type": "markdown",
      "source": [
        "## Question 2\n",
        "What will be the value of $\\hat{p}_0^0$, the estimate of $P(f_0=1|y=0)$?  Write your answer correct to two decimal places.\n",
        "\n"
      ],
      "metadata": {
        "id": "yOoMZca0DGhs"
      }
    },
    {
      "cell_type": "code",
      "source": [
        "# Enter your solution here\n",
        "p00_hat = np.sum((X[:, 0] == 1) & (y.flatten() == 0)) / np.sum(y.flatten() == 0)\n",
        "print(f\"{p00_hat=:.2f}\")"
      ],
      "metadata": {
        "id": "8sD0Ryp0fEnp",
        "colab": {
          "base_uri": "https://localhost:8080/"
        },
        "outputId": "4c7c1d5f-c1b0-46f3-bb1e-602f25eb6224"
      },
      "execution_count": 4,
      "outputs": [
        {
          "output_type": "stream",
          "name": "stdout",
          "text": [
            "p00_hat=0.68\n"
          ]
        }
      ]
    },
    {
      "cell_type": "markdown",
      "source": [
        "## Question 3\n",
        "What will be the value of $\\hat{p}_0^1$, the estimate of $P(f_0=1|y=1)$?  Write your answer correct to two decimal places.\n",
        "\n"
      ],
      "metadata": {
        "id": "YzJLLT6-G8GC"
      }
    },
    {
      "cell_type": "code",
      "source": [
        "# Enter your solution here\n",
        "p10_hat = np.sum((X[:, 0] == 1) & (y.flatten() == 1)) / np.sum(y.flatten() == 1)\n",
        "print(f\"{p10_hat=:.2f}\")"
      ],
      "metadata": {
        "id": "q7qSgWyXfFhF",
        "colab": {
          "base_uri": "https://localhost:8080/"
        },
        "outputId": "cd8c2034-7507-49b5-85a5-671a3c72c5e2"
      },
      "execution_count": 6,
      "outputs": [
        {
          "output_type": "stream",
          "name": "stdout",
          "text": [
            "p10_hat=0.26\n"
          ]
        }
      ]
    },
    {
      "cell_type": "markdown",
      "source": [
        "## Question 4\n",
        "What will be the value of $\\hat{p}_3^1$, the estimate of $P(f_3=1|y=1)$?  Write your answer correct to two decimal places.\n",
        "\n",
        "\n"
      ],
      "metadata": {
        "id": "NiciwccfHGwq"
      }
    },
    {
      "cell_type": "code",
      "source": [
        "# Enter your solution here\n",
        "p13_hat = np.sum((X[:, 3] == 1) & (y.flatten() == 1)) / np.sum(y.flatten() == 1)\n",
        "print(f\"{p13_hat=:.2f}\")"
      ],
      "metadata": {
        "id": "YtXPKjmp6zOt",
        "colab": {
          "base_uri": "https://localhost:8080/"
        },
        "outputId": "b448bfd3-a24c-4475-f73c-9b0494d071c8"
      },
      "execution_count": 5,
      "outputs": [
        {
          "output_type": "stream",
          "name": "stdout",
          "text": [
            "p13_hat=0.12\n"
          ]
        }
      ]
    },
    {
      "cell_type": "markdown",
      "source": [
        "## Question 5\n",
        "\n",
        "What will be the predicted label for the point $[1, 0, 1, 0]$?\n",
        "\n"
      ],
      "metadata": {
        "id": "3oJ0jnoHHcd9"
      }
    },
    {
      "cell_type": "code",
      "source": [
        "# Enter your solution here\n",
        "# Calculate priors\n",
        "p_y0 = 1 - p_hat\n",
        "p_y1 = p_hat\n",
        "\n",
        "# Calculate conditional probabilities for the given point [1, 0, 1, 0]\n",
        "# P(f_i | y=0) and P(f_i | y=1)\n",
        "# For feature = 1, we need P(f_i=1 | y)\n",
        "# For feature = 0, we need P(f_i=0 | y) = 1 - P(f_i=1 | y)\n",
        "\n",
        "# Conditional probabilities for features given y=0\n",
        "p_f0_y0 = np.sum((X[:, 0] == 1) & (y.flatten() == 0)) / np.sum(y.flatten() == 0)\n",
        "p_f1_y0 = np.sum((X[:, 1] == 1) & (y.flatten() == 0)) / np.sum(y.flatten() == 0)\n",
        "p_f2_y0 = np.sum((X[:, 2] == 1) & (y.flatten() == 0)) / np.sum(y.flatten() == 0)\n",
        "p_f3_y0 = np.sum((X[:, 3] == 1) & (y.flatten() == 0)) / np.sum(y.flatten() == 0)\n",
        "\n",
        "# Conditional probabilities for features given y=1\n",
        "p_f0_y1 = np.sum((X[:, 0] == 1) & (y.flatten() == 1)) / np.sum(y.flatten() == 1)\n",
        "p_f1_y1 = np.sum((X[:, 1] == 1) & (y.flatten() == 1)) / np.sum(y.flatten() == 1)\n",
        "p_f2_y1 = np.sum((X[:, 2] == 1) & (y.flatten() == 1)) / np.sum(y.flatten() == 1)\n",
        "p_f3_y1 = np.sum((X[:, 3] == 1) & (y.flatten() == 1)) / np.sum(y.flatten() == 1)\n",
        "\n",
        "\n",
        "# Input point\n",
        "point = np.array([1, 0, 1, 0])\n",
        "\n",
        "# Calculate likelihood for class 0\n",
        "# P(point | y=0) = P(f0=1|y=0) * P(f1=0|y=0) * P(f2=1|y=0) * P(f3=0|y=0)\n",
        "likelihood_y0 = (p_f0_y0 if point[0] == 1 else (1 - p_f0_y0)) * \\\n",
        "                (p_f1_y0 if point[1] == 1 else (1 - p_f1_y0)) * \\\n",
        "                (p_f2_y0 if point[2] == 1 else (1 - p_f2_y0)) * \\\n",
        "                (p_f3_y0 if point[3] == 1 else (1 - p_f3_y0))\n",
        "\n",
        "# Calculate likelihood for class 1\n",
        "# P(point | y=1) = P(f0=1|y=1) * P(f1=0|y=1) * P(f2=1|y=1) * P(f3=0|y=1)\n",
        "likelihood_y1 = (p_f0_y1 if point[0] == 1 else (1 - p_f0_y1)) * \\\n",
        "                (p_f1_y1 if point[1] == 1 else (1 - p_f1_y1)) * \\\n",
        "                (p_f2_y1 if point[2] == 1 else (1 - p_f2_y1)) * \\\n",
        "                (p_f3_y1 if point[3] == 1 else (1 - p_f3_y1))\n",
        "\n",
        "# Calculate posterior probabilities (unnormalized)\n",
        "# P(y | point) propto P(point | y) * P(y)\n",
        "posterior_y0 = likelihood_y0 * p_y0\n",
        "posterior_y1 = likelihood_y1 * p_y1\n",
        "\n",
        "# Predict the label\n",
        "predicted_label = 0 if posterior_y0 > posterior_y1 else 1\n",
        "\n",
        "print(f\"Predicted label for {point}: {predicted_label}\")"
      ],
      "metadata": {
        "id": "MoYmaBy9KQSU",
        "colab": {
          "base_uri": "https://localhost:8080/"
        },
        "outputId": "7366acad-ea72-45b8-c0f3-1292ddf3e7aa"
      },
      "execution_count": 7,
      "outputs": [
        {
          "output_type": "stream",
          "name": "stdout",
          "text": [
            "Predicted label for [1 0 1 0]: 1\n"
          ]
        }
      ]
    },
    {
      "cell_type": "markdown",
      "source": [
        "## Question 6\n",
        "\n",
        "What will be the predicted label for the point $[1, 0, 1, 1]$?\n",
        "\n"
      ],
      "metadata": {
        "id": "3J2SCm1yHxd4"
      }
    },
    {
      "cell_type": "code",
      "source": [
        "# Enter your solution here\n",
        "# Calculate priors (already calculated in previous cell, but recalculating for clarity)\n",
        "p_y0 = 1 - p_hat\n",
        "p_y1 = p_hat\n",
        "\n",
        "# Calculate conditional probabilities for the given point [1, 0, 1, 1]\n",
        "# These are the same conditional probabilities calculated in the previous cell\n",
        "# P(f_i | y=0) and P(f_i | y=1)\n",
        "\n",
        "# Conditional probabilities for features given y=0\n",
        "p_f0_y0 = np.sum((X[:, 0] == 1) & (y.flatten() == 0)) / np.sum(y.flatten() == 0)\n",
        "p_f1_y0 = np.sum((X[:, 1] == 1) & (y.flatten() == 0)) / np.sum(y.flatten() == 0)\n",
        "p_f2_y0 = np.sum((X[:, 2] == 1) & (y.flatten() == 0)) / np.sum(y.flatten() == 0)\n",
        "p_f3_y0 = np.sum((X[:, 3] == 1) & (y.flatten() == 0)) / np.sum(y.flatten() == 0)\n",
        "\n",
        "# Conditional probabilities for features given y=1\n",
        "p_f0_y1 = np.sum((X[:, 0] == 1) & (y.flatten() == 1)) / np.sum(y.flatten() == 1)\n",
        "p_f1_y1 = np.sum((X[:, 1] == 1) & (y.flatten() == 1)) / np.sum(y.flatten() == 1)\n",
        "p_f2_y1 = np.sum((X[:, 2] == 1) & (y.flatten() == 1)) / np.sum(y.flatten() == 1)\n",
        "p_f3_y1 = np.sum((X[:, 3] == 1) & (y.flatten() == 1)) / np.sum(y.flatten() == 1)\n",
        "\n",
        "\n",
        "# Input point\n",
        "point = np.array([1, 0, 1, 1])\n",
        "\n",
        "# Calculate likelihood for class 0\n",
        "# P(point | y=0) = P(f0=1|y=0) * P(f1=0|y=0) * P(f2=1|y=0) * P(f3=1|y=0)\n",
        "likelihood_y0 = (p_f0_y0 if point[0] == 1 else (1 - p_f0_y0)) * \\\n",
        "                (p_f1_y0 if point[1] == 1 else (1 - p_f1_y0)) * \\\n",
        "                (p_f2_y0 if point[2] == 1 else (1 - p_f2_y0)) * \\\n",
        "                (p_f3_y0 if point[3] == 1 else (1 - p_f3_y0))\n",
        "\n",
        "# Calculate likelihood for class 1\n",
        "# P(point | y=1) = P(f0=1|y=1) * P(f1=0|y=1) * P(f2=1|y=1) * P(f3=1|y=1)\n",
        "likelihood_y1 = (p_f0_y1 if point[0] == 1 else (1 - p_f0_y1)) * \\\n",
        "                (p_f1_y1 if point[1] == 1 else (1 - p_f1_y1)) * \\\n",
        "                (p_f2_y1 if point[2] == 1 else (1 - p_f2_y1)) * \\\n",
        "                (p_f3_y1 if point[3] == 1 else (1 - p_f3_y1))\n",
        "\n",
        "# Calculate posterior probabilities (unnormalized)\n",
        "# P(y | point) propto P(point | y) * P(y)\n",
        "posterior_y0 = likelihood_y0 * p_y0\n",
        "posterior_y1 = likelihood_y1 * p_y1\n",
        "\n",
        "# Predict the label\n",
        "predicted_label = 0 if posterior_y0 > posterior_y1 else 1\n",
        "\n",
        "print(f\"Predicted label for {point}: {predicted_label}\")"
      ],
      "metadata": {
        "id": "tK04m9YU7cXy",
        "colab": {
          "base_uri": "https://localhost:8080/"
        },
        "outputId": "464a5815-c673-4f70-c7fc-9f62fa67b662"
      },
      "execution_count": 8,
      "outputs": [
        {
          "output_type": "stream",
          "name": "stdout",
          "text": [
            "Predicted label for [1 0 1 1]: 0\n"
          ]
        }
      ]
    },
    {
      "cell_type": "markdown",
      "source": [
        "# Gaussian naive Bayes"
      ],
      "metadata": {
        "id": "45p6DAPA7dCl"
      }
    },
    {
      "cell_type": "markdown",
      "source": [
        "Run the below cell to get the following variables:\n",
        "\n",
        "`X_train` = Training dataset of the shape $(n, d)$. All the examples are coming from multivariate gaussian distribution.\n",
        "\n",
        "`y_train` = label vector for corresponding training examples. labels are $0$ and $1$.\n",
        "\n",
        "`X_test` = Test dataset of the shape $(m, d)$, where $m$ is the number of examples in the test dataset. All the examples are coming from multivariate gaussian distribution.\n",
        "\n",
        "`y_test` = label vector for corresponding test examples. labels are $0$ and $1$.\n",
        "\n"
      ],
      "metadata": {
        "id": "bbamhBbvjuzj"
      }
    },
    {
      "cell_type": "code",
      "source": [
        "from sklearn.datasets import make_classification, make_blobs\n",
        "from sklearn.model_selection import train_test_split\n",
        "\n",
        "# generate artificial data points\n",
        "X, y = make_blobs(n_samples = 100,\n",
        "                  n_features=2,\n",
        "                  centers=[[5,5],[10,10]],\n",
        "                  cluster_std=1.5,\n",
        "                  random_state=2)\n",
        "\n",
        "X_train, X_test, y_train, y_test = train_test_split(X, y, test_size=0.2,\n",
        "                                                    random_state=123)"
      ],
      "metadata": {
        "id": "qtqz8DPG7gok"
      },
      "execution_count": 9,
      "outputs": []
    },
    {
      "cell_type": "markdown",
      "source": [
        "## Question 7\n",
        "\n",
        "How many examples are there in the trianing dataset?\n",
        "\n"
      ],
      "metadata": {
        "id": "BRc3AVIZkphz"
      }
    },
    {
      "cell_type": "code",
      "source": [
        "# Enter your solution here\n",
        "print(f\"Number of examples in the training dataset: {X_train.shape[0]}\")"
      ],
      "metadata": {
        "id": "9nqy1H-nkybF",
        "colab": {
          "base_uri": "https://localhost:8080/"
        },
        "outputId": "4bf48d0e-5b2f-48c7-de65-21c6b415d49f"
      },
      "execution_count": 10,
      "outputs": [
        {
          "output_type": "stream",
          "name": "stdout",
          "text": [
            "Number of examples in the training dataset: 80\n"
          ]
        }
      ]
    },
    {
      "cell_type": "markdown",
      "source": [
        "## Question 8\n",
        "How many features are there in the dataset?\n",
        "\n"
      ],
      "metadata": {
        "id": "KhQF7arNk6xf"
      }
    },
    {
      "cell_type": "code",
      "source": [
        "# Enter your solution here\n",
        "print(f\"Number of features in the dataset: {X_train.shape[1]}\")"
      ],
      "metadata": {
        "id": "uoO-_Wv9lruv",
        "colab": {
          "base_uri": "https://localhost:8080/"
        },
        "outputId": "20893389-719b-4b02-96ff-46cdf382c967"
      },
      "execution_count": 11,
      "outputs": [
        {
          "output_type": "stream",
          "name": "stdout",
          "text": [
            "Number of features in the dataset: 2\n"
          ]
        }
      ]
    },
    {
      "cell_type": "markdown",
      "source": [
        "## Question 9\n",
        "\n",
        "If we train the Gaussian naive Bayes model on the trianing dataset, What will be the value of $\\hat{p}$, the estimate for $P(Y=1)$? Write your answer correct to two decimal places.\n",
        "\n",
        "\n",
        "\n"
      ],
      "metadata": {
        "id": "yf2hc7NDlxm8"
      }
    },
    {
      "cell_type": "code",
      "source": [
        "# Enter your solution here\n",
        "p_hat_gaussian = np.sum(y_train == 1) / len(y_train)\n",
        "print(f\"{p_hat_gaussian=:.2f}\")"
      ],
      "metadata": {
        "id": "LpJE6KJ5mpBp",
        "colab": {
          "base_uri": "https://localhost:8080/"
        },
        "outputId": "03ac106f-6695-480a-c52a-13a38f310e0c"
      },
      "execution_count": 12,
      "outputs": [
        {
          "output_type": "stream",
          "name": "stdout",
          "text": [
            "p_hat_gaussian=0.49\n"
          ]
        }
      ]
    },
    {
      "cell_type": "markdown",
      "source": [
        "## Question 10\n",
        "\n",
        "If $\\hat{\\mu}_0 = [\\mu_1, \\mu_2, ..., \\mu_d]$ be the estimate for $\\mu_0$, the mean of $0$ labeled examples, what will be the value of $\\mu_1+\\mu_2+...+\\mu_d$? Write your answer correct to two decimal places.\n",
        "\n"
      ],
      "metadata": {
        "id": "0wQUcpH7mrZr"
      }
    },
    {
      "cell_type": "code",
      "source": [
        "# Enter your solution here\n",
        "X_train_0 = X_train[y_train == 0]\n",
        "mu_0 = np.mean(X_train_0, axis=0)\n",
        "sum_mu_0 = np.sum(mu_0)\n",
        "print(f\"{sum_mu_0=:.2f}\")"
      ],
      "metadata": {
        "id": "mtZ_BtxImJ0J",
        "colab": {
          "base_uri": "https://localhost:8080/"
        },
        "outputId": "985b821e-a3a6-4a2a-856d-3d233b352b71"
      },
      "execution_count": 13,
      "outputs": [
        {
          "output_type": "stream",
          "name": "stdout",
          "text": [
            "sum_mu_0=9.58\n"
          ]
        }
      ]
    },
    {
      "cell_type": "markdown",
      "source": [
        "We will be using the different covariances for different labeled examples. The estimate for $\\Sigma_k$ will be\n",
        "\n",
        "$$\\hat{\\Sigma}_k = \\sigma_iI$$ where $\\sigma_i$ is the variance of $i^{th}$ feature values of examples labeled $k$.\n",
        "\n"
      ],
      "metadata": {
        "id": "1mnoFEJQnq9E"
      }
    },
    {
      "cell_type": "markdown",
      "source": [
        "## Question 11\n",
        "What will be value of $\\text{trace}({\\hat{\\Sigma}}_0)$?  Write your answer correct to two decimal places.\n",
        "\n",
        "\n",
        "\n",
        "\n",
        "\n"
      ],
      "metadata": {
        "id": "f-aioEqdpng7"
      }
    },
    {
      "cell_type": "code",
      "source": [
        "# Enter your solution here\n",
        "X_train_0 = X_train[y_train == 0]\n",
        "variance_0 = np.var(X_train_0, axis=0)\n",
        "trace_sigma_0 = np.sum(variance_0)\n",
        "print(f\"{trace_sigma_0=:.2f}\")"
      ],
      "metadata": {
        "id": "ExzW4sEOqpEF",
        "colab": {
          "base_uri": "https://localhost:8080/"
        },
        "outputId": "f16989a9-853c-413b-9e27-c94b5917bc9b"
      },
      "execution_count": 14,
      "outputs": [
        {
          "output_type": "stream",
          "name": "stdout",
          "text": [
            "trace_sigma_0=4.44\n"
          ]
        }
      ]
    },
    {
      "cell_type": "markdown",
      "source": [
        "## Question 12\n",
        "\n",
        "Once we have estimated all the parameters for Gaussian naive Bayes assuming the different covariance matrices, we predict the labels for the training examples. What will be the training accuracy?\n",
        "\n",
        "Accuracy is defined as the proportion of correctly classified examples.  Write your answer correct to two decimal places.\n",
        "\n",
        "\n"
      ],
      "metadata": {
        "id": "UKbeWd7fq1Ny"
      }
    },
    {
      "cell_type": "code",
      "source": [
        "# Enter your solution here\n",
        "# Estimate parameters for each class (mean and variance for each feature)\n",
        "X_train_0 = X_train[y_train == 0]\n",
        "X_train_1 = X_train[y_train == 1]\n",
        "\n",
        "mu_0 = np.mean(X_train_0, axis=0)\n",
        "mu_1 = np.mean(X_train_1, axis=0)\n",
        "\n",
        "variance_0 = np.var(X_train_0, axis=0)\n",
        "variance_1 = np.var(X_train_1, axis=0)\n",
        "\n",
        "# Calculate priors\n",
        "p_y0_gaussian = np.sum(y_train == 0) / len(y_train)\n",
        "p_y1_gaussian = np.sum(y_train == 1) / len(y_train)\n",
        "\n",
        "# Implement prediction function\n",
        "def predict_gaussian_naive_bayes(X, mu_0, mu_1, variance_0, variance_1, p_y0, p_y1):\n",
        "    predictions = []\n",
        "    for x in X:\n",
        "        # Calculate likelihood for class 0\n",
        "        # P(x | y=0) = product of P(x_i | y=0) for each feature i\n",
        "        # P(x_i | y=0) is a Gaussian PDF with mean mu_0[i] and variance variance_0[i]\n",
        "        likelihood_y0 = np.prod(1/np.sqrt(2 * np.pi * variance_0) * np.exp(-(x - mu_0)**2 / (2 * variance_0)))\n",
        "\n",
        "        # Calculate likelihood for class 1\n",
        "        # P(x | y=1) = product of P(x_i | y=1) for each feature i\n",
        "        # P(x_i | y=1) is a Gaussian PDF with mean mu_1[i] and variance variance_1[i]\n",
        "        likelihood_y1 = np.prod(1/np.sqrt(2 * np.pi * variance_1) * np.exp(-(x - mu_1)**2 / (2 * variance_1)))\n",
        "\n",
        "        # Calculate posterior probabilities (unnormalized)\n",
        "        # P(y | x) propto P(x | y) * P(y)\n",
        "        posterior_y0 = likelihood_y0 * p_y0\n",
        "        posterior_y1 = likelihood_y1 * p_y1\n",
        "\n",
        "        # Predict the label\n",
        "        predicted_label = 0 if posterior_y0 > posterior_y1 else 1\n",
        "        predictions.append(predicted_label)\n",
        "    return np.array(predictions)\n",
        "\n",
        "# Predict on training data\n",
        "y_train_pred = predict_gaussian_naive_bayes(X_train, mu_0, mu_1, variance_0, variance_1, p_y0_gaussian, p_y1_gaussian)\n",
        "\n",
        "# Calculate training accuracy\n",
        "training_accuracy = np.sum(y_train_pred == y_train) / len(y_train)\n",
        "print(f\"{training_accuracy=:.2f}\")"
      ],
      "metadata": {
        "id": "YIg9Z1K0GwUo",
        "colab": {
          "base_uri": "https://localhost:8080/"
        },
        "outputId": "6e1c4ddd-4d02-4620-c38a-ba236a2a51b9"
      },
      "execution_count": 17,
      "outputs": [
        {
          "output_type": "stream",
          "name": "stdout",
          "text": [
            "training_accuracy=0.99\n"
          ]
        }
      ]
    },
    {
      "cell_type": "markdown",
      "source": [
        "## Question 13\n",
        "\n",
        "What will be the test accuracy?\n",
        "\n",
        "Accuracy is defined as the proportion of correctly classified examples.  \n",
        "\n",
        "\n"
      ],
      "metadata": {
        "id": "kg661kj3uaxx"
      }
    },
    {
      "cell_type": "code",
      "source": [
        "# Enter your solution here\n",
        "# Predict on test data\n",
        "y_test_pred = predict_gaussian_naive_bayes(X_test, mu_0, mu_1, variance_0, variance_1, p_y0_gaussian, p_y1_gaussian)\n",
        "\n",
        "# Calculate test accuracy\n",
        "test_accuracy = np.sum(y_test_pred == y_test) / len(y_test)\n",
        "print(f\"{test_accuracy=:.2f}\")"
      ],
      "metadata": {
        "id": "ST0Ri7TEujUw",
        "colab": {
          "base_uri": "https://localhost:8080/"
        },
        "outputId": "3968ac3b-e0c6-4b61-a1b8-72974f9c4b3c"
      },
      "execution_count": 18,
      "outputs": [
        {
          "output_type": "stream",
          "name": "stdout",
          "text": [
            "test_accuracy=1.00\n"
          ]
        }
      ]
    }
  ]
}