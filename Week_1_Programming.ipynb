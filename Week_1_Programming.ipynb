{
  "nbformat": 4,
  "nbformat_minor": 0,
  "metadata": {
    "colab": {
      "provenance": [],
      "include_colab_link": true
    },
    "kernelspec": {
      "name": "python3",
      "display_name": "Python 3"
    },
    "language_info": {
      "name": "python"
    },
    "gpuClass": "standard"
  },
  "cells": [
    {
      "cell_type": "markdown",
      "metadata": {
        "id": "view-in-github",
        "colab_type": "text"
      },
      "source": [
        "<a href=\"https://colab.research.google.com/github/SandeepH2706/IITM_MLT/blob/main/Week_1_Programming.ipynb\" target=\"_parent\"><img src=\"https://colab.research.google.com/assets/colab-badge.svg\" alt=\"Open In Colab\"/></a>"
      ]
    },
    {
      "cell_type": "markdown",
      "source": [
        "# Week-1\n",
        "\n"
      ],
      "metadata": {
        "id": "53TcQvUOjGxr"
      }
    },
    {
      "cell_type": "markdown",
      "source": [
        "## Dataset\n",
        "\n",
        "We will be working with a subset of the [MNIST dataset](https://en.wikipedia.org/wiki/MNIST_database). Run the cell given below to generate the data-matrix $\\mathbf{X}$, which is of shape $(n, d)$, where $n$ denotes the number of samples and $d$ denotes the number of features. You will be using this dataset for the rest of the assignment. Do not edit this cell."
      ],
      "metadata": {
        "id": "I3DzbeU33QxN"
      }
    },
    {
      "cell_type": "code",
      "source": [
        "##### DATASET GENERATION #####\n",
        "import numpy as np\n",
        "from keras.datasets import mnist\n",
        "(X_train, y_train), (X_test, y_test) = mnist.load_data()\n",
        "X = X_train[y_train == 2][: 100].reshape(-1, 28 * 28)\n",
        "test_image = X_test[y_test == 2][0].reshape(28 * 28)\n",
        "##### DO NOT EDIT THIS CELL #####"
      ],
      "metadata": {
        "id": "uOBXmnyg3ZFH",
        "colab": {
          "base_uri": "https://localhost:8080/"
        },
        "outputId": "d1d342e4-e044-4d1d-8b05-c32d66d44d73"
      },
      "execution_count": 1,
      "outputs": [
        {
          "output_type": "stream",
          "name": "stdout",
          "text": [
            "Downloading data from https://storage.googleapis.com/tensorflow/tf-keras-datasets/mnist.npz\n",
            "\u001b[1m11490434/11490434\u001b[0m \u001b[32m━━━━━━━━━━━━━━━━━━━━\u001b[0m\u001b[37m\u001b[0m \u001b[1m1s\u001b[0m 0us/step\n"
          ]
        }
      ]
    },
    {
      "cell_type": "markdown",
      "source": [
        "## Problem-1\n",
        "\n",
        "How many samples does the dataset have?"
      ],
      "metadata": {
        "id": "5RyvzK8z4o47"
      }
    },
    {
      "cell_type": "code",
      "source": [
        "# Enter your solution here\n",
        "100"
      ],
      "metadata": {
        "id": "rFXCXoje52x-",
        "colab": {
          "base_uri": "https://localhost:8080/"
        },
        "outputId": "8da06835-1af9-4ce4-aade-b9de36fde83c"
      },
      "execution_count": 10,
      "outputs": [
        {
          "output_type": "execute_result",
          "data": {
            "text/plain": [
              "100"
            ]
          },
          "metadata": {},
          "execution_count": 10
        }
      ]
    },
    {
      "cell_type": "markdown",
      "source": [
        "## Problem-2\n",
        "\n",
        "How many features does the dataset have?"
      ],
      "metadata": {
        "id": "UrmLi2sK4ynX"
      }
    },
    {
      "cell_type": "code",
      "source": [
        "# Enter your solution here\n",
        "784"
      ],
      "metadata": {
        "id": "WQ75O4D141R0"
      },
      "execution_count": null,
      "outputs": []
    },
    {
      "cell_type": "markdown",
      "source": [
        "## Problem-3\n",
        "\n",
        "Each sample corresponds to an image of dimension $28 \\times 28$. Visualize one of these images using the `matplotlib` library.\n",
        "\n",
        "- You need to know how to reshape a feature vector. Refer to week-0 content for the same.\n",
        "- You can refer to the following [document](https://matplotlib.org/stable/tutorials/introductory/images.html#sphx-glr-tutorials-introductory-images-py) for plotting NumPy arrays as images using `matplotlib`."
      ],
      "metadata": {
        "id": "BPUFxtI55G2h"
      }
    },
    {
      "cell_type": "code",
      "source": [
        "# Enter your solution here\n",
        "import matplotlib.pyplot as plt\n",
        "\n",
        "# Select the first image from X (flattened 784-d vector)\n",
        "image_vector = X[0]\n",
        "\n",
        "# Reshape it back to 28x28\n",
        "image_2d = image_vector.reshape(28, 28)\n",
        "\n",
        "# Plot the image\n",
        "plt.imshow(image_2d, cmap='gray')\n",
        "plt.title(\"Digit: 2\")\n",
        "plt.axis('off')  # Hide axes\n",
        "plt.show()\n"
      ],
      "metadata": {
        "id": "ExvRNXPZ6246",
        "colab": {
          "base_uri": "https://localhost:8080/",
          "height": 428
        },
        "outputId": "495bdd61-f55b-4635-985f-3c99e8bf4635"
      },
      "execution_count": 3,
      "outputs": [
        {
          "output_type": "display_data",
          "data": {
            "text/plain": [
              "<Figure size 640x480 with 1 Axes>"
            ],
            "image/png": "[encoded data removed]"
          },
          "metadata": {}
        }
      ]
    },
    {
      "cell_type": "markdown",
      "source": [
        "## Problem-4\n",
        "\n",
        "Center the the dataset $\\mathbf{X}$ around its mean. Call this centered dataset $\\mathbf{X}^{\\prime}$.\n",
        "\n",
        "<u>Conversion</u>\n",
        "\n",
        "Enter the following quantity as your answer correct to two decimal places:\n",
        "\n",
        "$$\n",
        "\\cfrac{1}{n \\cdot d} \\sqrt{\\sum \\limits_{i = 1}^{n} \\sum \\limits_{j = 1}^{d} (X_{ij}^{\\prime})^2}\n",
        "$$"
      ],
      "metadata": {
        "id": "8e2xflo8FF8K"
      }
    },
    {
      "cell_type": "code",
      "source": [
        "# Enter your solution here\n",
        "import numpy as np\n",
        "\n",
        "# Step 1: Center the dataset\n",
        "X_mean = np.mean(X, axis=0)     # Mean of each feature (shape: [784])\n",
        "X_prime = X - X_mean            # Centered dataset\n",
        "\n",
        "# Step 2: Compute the average squared value\n",
        "n, d = X_prime.shape\n",
        "avg_squared_value = np.sum(X_prime ** 2) / (n * d)\n",
        "\n",
        "# Print result rounded to 2 decimal places\n",
        "print(round(avg_squared_value, 2))\n"
      ],
      "metadata": {
        "id": "9uNDPtBjH5Df",
        "colab": {
          "base_uri": "https://localhost:8080/"
        },
        "outputId": "33aa2de3-5d4c-485b-c59d-812eafce3337"
      },
      "execution_count": 4,
      "outputs": [
        {
          "output_type": "stream",
          "name": "stdout",
          "text": [
            "4235.16\n"
          ]
        }
      ]
    },
    {
      "cell_type": "markdown",
      "source": [
        "## Problem-5\n",
        "\n",
        "Compute the covariance matrix $\\mathbf{C}$ of the centered dataset.\n",
        "\n",
        "<u>Conversion</u>\n",
        "\n",
        "Enter the following quantity as your answer correct to two decimal places:\n",
        "\n",
        "$$\n",
        "\\cfrac{1}{d^2} \\sqrt{\\sum \\limits_{i = 1}^{d} \\sum \\limits_{j = 1}^{d} C_{ij}^2}\n",
        "$$"
      ],
      "metadata": {
        "id": "8UPKuD8uJCnE"
      }
    },
    {
      "cell_type": "code",
      "source": [
        "# Enter your solution here\n",
        "# X_prime is the centered data matrix (n x d)\n",
        "n, d = X_prime.shape\n",
        "\n",
        "# Compute covariance matrix C (d x d)\n",
        "C = (X_prime.T @ X_prime) / (n - 1)\n",
        "\n",
        "# Compute average squared value of elements in C\n",
        "avg_squared_C = np.sum(C ** 2) / (d ** 2)\n",
        "\n",
        "# Print the result rounded to 2 decimals\n",
        "print(round(avg_squared_C, 2))\n"
      ],
      "metadata": {
        "id": "ZWT1bzBDlk2m",
        "colab": {
          "base_uri": "https://localhost:8080/"
        },
        "outputId": "6d3ef1a2-ba6f-4cf9-f371-a94d32b80196"
      },
      "execution_count": 5,
      "outputs": [
        {
          "output_type": "stream",
          "name": "stdout",
          "text": [
            "1168163.54\n"
          ]
        }
      ]
    },
    {
      "cell_type": "markdown",
      "source": [
        "## Problem-6\n",
        "\n",
        "Compute the first and second principal components of the dataset, $\\mathbf{w}_1$ and $\\mathbf{w}_2$.\n",
        "\n",
        "<u>Conversion</u>\n",
        "\n",
        "Compute:\n",
        "$$\n",
        "\\mathbf{w} = \\mathbf{w}_1 + \\mathbf{w}_2\n",
        "$$\n",
        "\n",
        "Enter the following quantity as your answer correct to two decimal places:\n",
        "\n",
        "$$\n",
        "\\left| \\sum \\limits_{i = 1}^{d} w_i \\right|\n",
        "$$"
      ],
      "metadata": {
        "id": "FfJK8OiMr2mh"
      }
    },
    {
      "cell_type": "code",
      "source": [
        "# Enter your solution here\n",
        "import numpy as np\n",
        "\n",
        "# Assuming X_prime and C are defined (centered data and covariance matrix)\n",
        "\n",
        "# Step 1: Compute eigenvalues and eigenvectors of covariance matrix\n",
        "eigenvalues, eigenvectors = np.linalg.eigh(C)\n",
        "\n",
        "# Step 2: Eigenvectors are columns; sort eigenvalues descending order and select top 2\n",
        "idx = np.argsort(eigenvalues)[::-1]  # indices for descending order\n",
        "w1 = eigenvectors[:, idx[0]]  # first principal component\n",
        "w2 = eigenvectors[:, idx[1]]  # second principal component\n",
        "\n",
        "# Step 3: Sum the first two principal components\n",
        "w = w1 + w2\n",
        "\n",
        "# Step 4: Compute absolute sum of elements of w\n",
        "result = abs(np.sum(w))\n",
        "\n",
        "# Print result rounded to 2 decimals\n",
        "print(round(result, 2))\n"
      ],
      "metadata": {
        "id": "KgJ1FCa1tvZR",
        "colab": {
          "base_uri": "https://localhost:8080/"
        },
        "outputId": "9b58dee5-52a1-4981-87a3-b931e7f25e83"
      },
      "execution_count": 6,
      "outputs": [
        {
          "output_type": "stream",
          "name": "stdout",
          "text": [
            "1.05\n"
          ]
        }
      ]
    },
    {
      "cell_type": "markdown",
      "source": [
        "## Problem-7\n",
        "\n",
        "Visualize the first principal component as an image."
      ],
      "metadata": {
        "id": "9CBt_pmj-5pl"
      }
    },
    {
      "cell_type": "code",
      "source": [
        "# Enter your solution here\n",
        "import matplotlib.pyplot as plt\n",
        "\n",
        "# Assuming w1 is the first principal component vector of length 784\n",
        "w1_image = w1.reshape(28, 28)\n",
        "\n",
        "plt.imshow(w1_image, cmap='gray')\n",
        "plt.title(\"First Principal Component\")\n",
        "plt.axis('off')  # Hide the axes\n",
        "plt.show()\n"
      ],
      "metadata": {
        "id": "KXiJLyT7_N29",
        "colab": {
          "base_uri": "https://localhost:8080/",
          "height": 428
        },
        "outputId": "97c0fef3-8bef-40ac-943b-61bfcc455698"
      },
      "execution_count": 7,
      "outputs": [
        {
          "output_type": "display_data",
          "data": {
            "text/plain": [
              "<Figure size 640x480 with 1 Axes>"
            ],
            "image/png": "[encoded data removed]"
          },
          "metadata": {}
        }
      ]
    },
    {
      "cell_type": "markdown",
      "source": [
        "## Problem-8\n",
        "\n",
        "Find the smallest value of $k$ for which the first $k$ principal components capture at least $95\\%$ of the variance in the data."
      ],
      "metadata": {
        "id": "o37ie_mqxqhy"
      }
    },
    {
      "cell_type": "code",
      "source": [
        "# Enter your solution here\n",
        "# eigenvalues are already computed: eigenvalues\n",
        "\n",
        "# Sort eigenvalues in descending order\n",
        "sorted_eigenvalues = np.sort(eigenvalues)[::-1]\n",
        "\n",
        "# Compute explained variance ratio\n",
        "explained_variance_ratio = np.cumsum(sorted_eigenvalues) / np.sum(sorted_eigenvalues)\n",
        "\n",
        "# Find smallest k where explained variance ratio >= 0.95\n",
        "k = np.argmax(explained_variance_ratio >= 0.95) + 1  # +1 because indices start at 0\n",
        "\n",
        "print(k)\n"
      ],
      "metadata": {
        "id": "_JiPpEwCyvQK",
        "colab": {
          "base_uri": "https://localhost:8080/"
        },
        "outputId": "868f3d86-9832-4824-c426-458803be987b"
      },
      "execution_count": 8,
      "outputs": [
        {
          "output_type": "stream",
          "name": "stdout",
          "text": [
            "53\n"
          ]
        }
      ]
    },
    {
      "cell_type": "markdown",
      "source": [
        "## Problem-9\n",
        "\n",
        "Given a `test_image`, visualize the proxies  by reconstructing it using the top $k$ principal components. Consider four values of $k$; values of $k$ for which the top-$k$ principal components explain:\n",
        "\n",
        "- 20% of the variance\n",
        "- 50% of the variance\n",
        "- 80% of the variance\n",
        "- 95% of the variance\n",
        "\n"
      ],
      "metadata": {
        "id": "5raTmu_s0Gpq"
      }
    },
    {
      "cell_type": "code",
      "source": [
        "# Enter your solution here\n",
        "import matplotlib.pyplot as plt\n",
        "\n",
        "# Assuming:\n",
        "# - C: covariance matrix\n",
        "# - eigenvalues, eigenvectors: from np.linalg.eigh(C)\n",
        "# - test_image: vector of shape (784,)\n",
        "\n",
        "# 1. Sort eigenvalues and eigenvectors\n",
        "idx = np.argsort(eigenvalues)[::-1]\n",
        "sorted_eigenvalues = eigenvalues[idx]\n",
        "sorted_eigenvectors = eigenvectors[:, idx]\n",
        "\n",
        "# 2. Compute cumulative variance ratio\n",
        "explained_variance_ratio = np.cumsum(sorted_eigenvalues) / np.sum(sorted_eigenvalues)\n",
        "\n",
        "# 3. Variance thresholds to check\n",
        "thresholds = [0.20, 0.50, 0.80, 0.95]\n",
        "ks = [np.argmax(explained_variance_ratio >= t) + 1 for t in thresholds]\n",
        "\n",
        "print(f\"Values of k for variance thresholds: {dict(zip(thresholds, ks))}\")\n",
        "\n",
        "# 4. Center test image by subtracting training mean\n",
        "test_image_centered = test_image - X_mean\n",
        "\n",
        "# 5. Function to reconstruct image given k\n",
        "def reconstruct_image(k):\n",
        "    W_k = sorted_eigenvectors[:, :k]  # top k eigenvectors (d x k)\n",
        "    z = W_k.T @ test_image_centered    # projection coefficients (k,)\n",
        "    reconstruction = W_k @ z           # reconstruct in original space (d,)\n",
        "    reconstruction += X_mean           # add mean back to get actual image\n",
        "    return reconstruction\n",
        "\n",
        "# 6. Plotting\n",
        "plt.figure(figsize=(10, 4))\n",
        "for i, k in enumerate(ks, 1):\n",
        "    reconstructed_img = reconstruct_image(k).reshape(28, 28)\n",
        "    plt.subplot(1, 4, i)\n",
        "    plt.imshow(reconstructed_img, cmap='gray')\n",
        "    plt.title(f\"k={k}\\n({int(thresholds[i-1]*100)}% variance)\")\n",
        "    plt.axis('off')\n",
        "\n",
        "plt.suptitle(\"Test Image Reconstruction Using Top-k Principal Components\")\n",
        "plt.show()\n"
      ],
      "metadata": {
        "id": "yrjf1Er24vLo",
        "colab": {
          "base_uri": "https://localhost:8080/",
          "height": 332
        },
        "outputId": "6d988b19-6dd1-46d8-d670-4b69c3c3909e"
      },
      "execution_count": 9,
      "outputs": [
        {
          "output_type": "stream",
          "name": "stdout",
          "text": [
            "Values of k for variance thresholds: {0.2: np.int64(2), 0.5: np.int64(6), 0.8: np.int64(22), 0.95: np.int64(53)}\n"
          ]
        },
        {
          "output_type": "display_data",
          "data": {
            "text/plain": [
              "<Figure size 1000x400 with 4 Axes>"
            ],
            "image/png": "[encoded data removed]"
          },
          "metadata": {}
        }
      ]
    }
  ]
}