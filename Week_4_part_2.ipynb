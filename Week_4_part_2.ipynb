{
  "nbformat": 4,
  "nbformat_minor": 0,
  "metadata": {
    "colab": {
      "provenance": [],
      "include_colab_link": true
    },
    "kernelspec": {
      "name": "python3",
      "display_name": "Python 3"
    },
    "language_info": {
      "name": "python"
    }
  },
  "cells": [
    {
      "cell_type": "markdown",
      "metadata": {
        "id": "view-in-github",
        "colab_type": "text"
      },
      "source": [
        "<a href=\"https://colab.research.google.com/github/SandeepH2706/IITM_MLT/blob/main/Week_4_part_2.ipynb\" target=\"_parent\"><img src=\"https://colab.research.google.com/assets/colab-badge.svg\" alt=\"Open In Colab\"/></a>"
      ]
    },
    {
      "cell_type": "markdown",
      "source": [
        "# Week-4: Part-2\n"
      ],
      "metadata": {
        "id": "53TcQvUOjGxr"
      }
    },
    {
      "cell_type": "code",
      "source": [
        "import numpy as np\n",
        "import matplotlib.pyplot as plt\n",
        "# Set size of figure\n",
        "plt.rcParams['figure.figsize'] = [8, 8]\n",
        "# Set size of font\n",
        "plt.rcParams['font.size'] = 10"
      ],
      "metadata": {
        "id": "FasmVZvHPgMW"
      },
      "execution_count": 1,
      "outputs": []
    },
    {
      "cell_type": "markdown",
      "source": [
        "## GMM\n",
        "\n",
        "Now that we know how to sample from simple distributions like the Bernoulli and Gaussian, we shall move to sampling from a GMM. There are two steps here:\n",
        "\n",
        "- Pick a mixture $k$ from $K$ mixtures based on the categorical distribution governing it\n",
        "- Sample a point from the $k^{th}$ Gaussian"
      ],
      "metadata": {
        "id": "7A9Gri4ZP1oK"
      }
    },
    {
      "cell_type": "markdown",
      "source": [
        "## Problem-1\n",
        "\n",
        "Consider a GMM with $K = 3$. The mixture probabilities are given below. It is easier to work with zero-indexing, hence we will index our mixtures starting from $0$:\n",
        "\n",
        "$$\n",
        "\\pi_0 = 0.3\\\\\n",
        "\\pi_1 = 0.5\\\\\n",
        "\\pi_2 = 0.2\n",
        "$$\n",
        "\n",
        "Perform step-1 of the sampling process by choosing one of the three mixtures based on the above distribution. Call this value $k$. Use the cell given below for all your computation. Do not change the seed value. Enter $k$ as your answer."
      ],
      "metadata": {
        "id": "1GlVAG9-8qFY"
      }
    },
    {
      "cell_type": "code",
      "source": [
        "rng = np.random.default_rng(seed = 1001)\n",
        "np.random.seed(seed=1001)\n",
        "k = np.random.choice([0, 1, 2], p=[0.3, 0.5, 0.2])\n",
        "k"
      ],
      "metadata": {
        "id": "izDwlwd2PYwr",
        "outputId": "b80d6099-b7b6-46b9-db9b-33d90e5e9e09",
        "colab": {
          "base_uri": "https://localhost:8080/"
        }
      },
      "execution_count": 9,
      "outputs": [
        {
          "output_type": "execute_result",
          "data": {
            "text/plain": [
              "np.int64(1)"
            ]
          },
          "metadata": {},
          "execution_count": 9
        }
      ]
    },
    {
      "cell_type": "markdown",
      "source": [
        "## Problem-2\n",
        "\n",
        "Now we move to step-2 of the sampling process. Sample a point from mixture $k$ (obtained from the previous question). The means and variances of the mixtures are as follows:\n",
        "\n",
        "$$\n",
        "\\mu_1 = -4, \\sigma_1^2 = 2\\\\\n",
        "\\mu_2 = 0, \\sigma_2^2 = 1\\\\\n",
        "\\mu_3 = 5, \\sigma_3^2 = 3\n",
        "$$\n",
        "\n",
        "\n",
        "Use the cell given below for all your computation. Enter the sampled point correct to three decimal places."
      ],
      "metadata": {
        "id": "4hd29e0n9mar"
      }
    },
    {
      "cell_type": "code",
      "source": [
        "### RNG ###\n",
        "rng = np.random.default_rng(seed = 1001)\n",
        "### Solution ###\n",
        "means = [-4, 0, 5]\n",
        "variances = [2, 1, 3]\n",
        "sampled_point = np.random.normal(loc=means[k], scale=np.sqrt(variances[k]))\n",
        "print(f\"{sampled_point:.3f}\")"
      ],
      "metadata": {
        "id": "wm0urm1WP_BV",
        "outputId": "29e217d4-5286-4ef4-a3b4-6b2fd1a1a3bd",
        "colab": {
          "base_uri": "https://localhost:8080/"
        }
      },
      "execution_count": 11,
      "outputs": [
        {
          "output_type": "stream",
          "name": "stdout",
          "text": [
            "-0.628\n"
          ]
        }
      ]
    },
    {
      "cell_type": "markdown",
      "source": [
        "## Problem-3\n",
        "\n",
        "Now that we have sampled one point, we are ready to do more. Sample $100,000$ points from the GMM. Generate each point step by step. Store the samples in a NumPy array `X` of shape $(100,000, )$. `X[i]` should hold the value of the $i^{th}$ point generated from the GMM.  Use the cell below for all your computation. Enter the mean of `X` as your answer correct to three decimal places."
      ],
      "metadata": {
        "id": "7FnbGy4p-jeK"
      }
    },
    {
      "cell_type": "code",
      "source": [
        "### RNG ###\n",
        "rng = np.random.default_rng(seed = 1001)\n",
        "### Solution ###\n",
        "X = np.zeros(100000)\n",
        "for i in range(100000):\n",
        "    k = np.random.choice([0, 1, 2], p=[0.3, 0.5, 0.2])\n",
        "    X[i] = np.random.normal(loc=means[k], scale=np.sqrt(variances[k]))\n",
        "\n",
        "mean_of_X = np.mean(X)\n",
        "print(f\"{mean_of_X:.3f}\")"
      ],
      "metadata": {
        "id": "XA8gv2jq-rTC",
        "outputId": "d0d06fdb-1bc0-4bcd-fbc3-3ad5af3f1fde",
        "colab": {
          "base_uri": "https://localhost:8080/"
        }
      },
      "execution_count": 12,
      "outputs": [
        {
          "output_type": "stream",
          "name": "stdout",
          "text": [
            "-0.210\n"
          ]
        }
      ]
    },
    {
      "cell_type": "markdown",
      "source": [
        "## Problem-4\n",
        "\n",
        "Plot a histogram of the dataset. Play around with the `bins` parameter of the `plt.hist` method. We will be using this dataset `X` all through the next section of the colab."
      ],
      "metadata": {
        "id": "2heXmKhI_uXb"
      }
    },
    {
      "cell_type": "code",
      "source": [
        "### Solution ###\n",
        "plt.hist(X, bins=50)\n",
        "plt.title('Histogram of X')\n",
        "plt.xlabel('Value')\n",
        "plt.ylabel('Frequency')\n",
        "plt.show()\n",
        "\n",
        "plt.hist(X, bins=100)\n",
        "plt.title('Histogram of X (More bins)')\n",
        "plt.xlabel('Value')\n",
        "plt.ylabel('Frequency')\n",
        "plt.show()\n",
        "\n",
        "plt.hist(X, bins=20)\n",
        "plt.title('Histogram of X (Fewer bins)')\n",
        "plt.xlabel('Value')\n",
        "plt.ylabel('Frequency')\n",
        "plt.show()"
      ],
      "metadata": {
        "id": "lpor62HP_xPF",
        "outputId": "bf007fc1-e1c8-4fe9-9170-ec7e7e63b966",
        "colab": {
          "base_uri": "https://localhost:8080/",
          "height": 1000
        }
      },
      "execution_count": 13,
      "outputs": [
        {
          "output_type": "display_data",
          "data": {
            "text/plain": [
              "<Figure size 800x800 with 1 Axes>"
            ],
            "image/png": "[encoded data removed]"
          },
          "metadata": {}
        },
        {
          "output_type": "display_data",
          "data": {
            "text/plain": [
              "<Figure size 800x800 with 1 Axes>"
            ],
            "image/png": "[encoded data removed]"
          },
          "metadata": {}
        },
        {
          "output_type": "display_data",
          "data": {
            "text/plain": [
              "<Figure size 800x800 with 1 Axes>"
            ],
            "image/png": "[encoded data removed]"
          },
          "metadata": {}
        }
      ]
    },
    {
      "cell_type": "markdown",
      "source": [
        "## EM algorithm\n",
        "\n",
        "It is time to start coding up the EM algorithm from scratch. We will break this down into five stages:\n",
        "\n",
        "- Initialization\n",
        "- E-step\n",
        "- M-step\n",
        "- Stopping criterion\n",
        "- Algorithm\n",
        "\n",
        "For each of the first four stages, we will write functions that are related to that stage. All these functions will be eventually used in the code for the EM algorithm. This is a modular approach to writing the code. We have identified four blocks or stages. We can independently work on these four blocks and finally combine them. If something goes wrong, we can quickly localize the problem to one of these four blocks.\n"
      ],
      "metadata": {
        "id": "t1VFwTY0ArhB"
      }
    },
    {
      "cell_type": "markdown",
      "source": [
        "## Problem-5\n",
        "\n",
        "Write a function `init` that initializes the parameters of the GMM and returns `theta_0`, a NumPy array of shape $(3K, )$. The first $K$ elements of `theta_0` ($\\boldsymbol{\\theta}^{(0)}$) represents the means of the three mixtures, the next $K$ represent the variances and the last $K$ represent the mixture probabilities.\n",
        "\n",
        "The exact values to be used are as follows:\n",
        "\n",
        "- $\\mu_0 = 1, \\mu_1 = 2, \\mu_2 = 3$\n",
        "- $\\sigma_0^2 = \\sigma_1^2 = \\sigma_2^2 = 1$\n",
        "- $\\pi_0 = \\pi_1 = \\pi_2 = 1/3$\n",
        "\n",
        "Enter $||\\boldsymbol{\\theta}^{(0)}||$ as your answer correct to two decimal places. Keep this variable `theta_0` as it will be used in subsequent problems."
      ],
      "metadata": {
        "id": "YuhQSnp0BChl"
      }
    },
    {
      "cell_type": "code",
      "source": [
        "### Solution ###\n",
        "def init():\n",
        "  \"\"\"Initializes the parameters of the GMM.\"\"\"\n",
        "  means = np.array([1, 2, 3])\n",
        "  variances = np.array([1, 1, 1])\n",
        "  weights = np.array([1/3, 1/3, 1/3])\n",
        "  theta_0 = np.concatenate((means, variances, weights))\n",
        "  return theta_0\n",
        "\n",
        "theta_0 = init()\n",
        "norm_theta_0 = np.linalg.norm(theta_0)\n",
        "print(f\"{norm_theta_0:.2f}\")"
      ],
      "metadata": {
        "id": "HKe2dspvIUgE",
        "outputId": "16e96a2e-1274-44bf-e85e-2cf707af523e",
        "colab": {
          "base_uri": "https://localhost:8080/"
        }
      },
      "execution_count": 15,
      "outputs": [
        {
          "output_type": "stream",
          "name": "stdout",
          "text": [
            "4.16\n"
          ]
        }
      ]
    },
    {
      "cell_type": "markdown",
      "source": [
        "## Problem-6\n",
        "\n",
        "Write a function `estep` that accepts `theta` and `X` as arguments. It should perform the E-step and return an array `lamb` of shape `(n, K)`. The element `lamb[i][k]` is equal to $\\lambda_k^{i}$. For the purposes of evaluation, run the function on `theta_0` and `X`. Call the returned value `lamb_1`.  Compute the sum of the zeroth column of the matrix `lamb_1` and enter that as your answer correct to two decimal places. Keep this variable `lamb_1` as it will be used in subsequent problems.\n",
        "\n",
        "\n",
        "**Aside**: We prefer the variable name `lamb` over `lambda` for a reason. Can you guess why?"
      ],
      "metadata": {
        "id": "EgsmXOKYJ76X"
      }
    },
    {
      "cell_type": "code",
      "source": [
        "### Solution ###\n",
        "def estep(theta, X):\n",
        "  \"\"\"Performs the E-step of the EM algorithm.\n",
        "\n",
        "  Args:\n",
        "    theta: A numpy array of shape (3K,) containing the GMM parameters (means, variances, weights).\n",
        "    X: A numpy array of shape (n,) containing the data.\n",
        "\n",
        "  Returns:\n",
        "    A numpy array of shape (n, K) containing the responsibilities (lambda_ik).\n",
        "  \"\"\"\n",
        "  n = len(X)\n",
        "  K = len(theta) // 3\n",
        "  means = theta[:K]\n",
        "  variances = theta[K:2*K]\n",
        "  weights = theta[2*K:]\n",
        "\n",
        "  # Calculate likelihoods p(x_i | mu_k, sigma_k^2)\n",
        "  likelihoods = np.zeros((n, K))\n",
        "  for k in range(K):\n",
        "    likelihoods[:, k] = (1 / np.sqrt(2 * np.pi * variances[k])) * np.exp(-((X - means[k])**2) / (2 * variances[k]))\n",
        "\n",
        "  # Calculate the numerator of lambda_ik: pi_k * p(x_i | mu_k, sigma_k^2)\n",
        "  numerator = likelihoods * weights\n",
        "\n",
        "  # Calculate the denominator of lambda_ik: sum over k of (pi_k * p(x_i | mu_k, sigma_k^2))\n",
        "  denominator = np.sum(numerator, axis=1, keepdims=True)\n",
        "\n",
        "\n",
        "  lamb = numerator / denominator\n",
        "\n",
        "  return lamb\n",
        "\n",
        "lamb_1 = estep(theta_0, X)\n",
        "sum_of_zeroth_column = np.sum(lamb_1[:, 0])\n",
        "print(f\"{sum_of_zeroth_column:.2f}\")"
      ],
      "metadata": {
        "id": "kKH7zNZ6IJsb",
        "outputId": "a9fbe978-47c4-4855-cde6-954b3163af37",
        "colab": {
          "base_uri": "https://localhost:8080/"
        }
      },
      "execution_count": 17,
      "outputs": [
        {
          "output_type": "stream",
          "name": "stdout",
          "text": [
            "68304.19\n"
          ]
        }
      ]
    },
    {
      "cell_type": "markdown",
      "source": [
        "## Problem-7\n",
        "\n",
        "Write a function `mstep` that accepts `lamb` and `X` as arguments. It should perform the M-step and return a NumPy array `theta`, the updated parameters, namely. We follow the same convention for storing the parameters as was done during the init step. For the purposes of evaluation, compute the value of the function for `lamb_1` and `X`. Call the returned value `theta_1` ($\\boldsymbol{\\theta}^{(1)}$). Enter $||\\boldsymbol{\\theta}^{(1)}||$  as your answer correct to two decimal places."
      ],
      "metadata": {
        "id": "Fqnf831nLAlP"
      }
    },
    {
      "cell_type": "code",
      "source": [
        "### Solution ###\n",
        "def mstep(lamb, X):\n",
        "  \"\"\"Performs the M-step of the EM algorithm.\n",
        "\n",
        "  Args:\n",
        "    lamb: A numpy array of shape (n, K) containing the responsibilities (lambda_ik).\n",
        "    X: A numpy array of shape (n,) containing the data.\n",
        "\n",
        "  Returns:\n",
        "    A numpy array of shape (3K,) containing the updated GMM parameters (means, variances, weights).\n",
        "  \"\"\"\n",
        "  n, K = lamb.shape\n",
        "\n",
        "  # Update weights (pi_k)\n",
        "  weights = np.sum(lamb, axis=0) / n\n",
        "\n",
        "  # Update means (mu_k)\n",
        "  means = np.sum(lamb * X[:, np.newaxis], axis=0) / np.sum(lamb, axis=0)\n",
        "\n",
        "  # Update variances (sigma_k^2)\n",
        "  variances = np.sum(lamb * (X[:, np.newaxis] - means)**2, axis=0) / np.sum(lamb, axis=0)\n",
        "\n",
        "  theta = np.concatenate((means, variances, weights))\n",
        "  return theta\n",
        "\n",
        "theta_1 = mstep(lamb_1, X)\n",
        "norm_theta_1 = np.linalg.norm(theta_1)\n",
        "print(f\"{norm_theta_1:.2f}\")"
      ],
      "metadata": {
        "id": "k9FSc2QiITDs",
        "outputId": "6dd5a19e-243e-4773-c85f-8cbe002cfabf",
        "colab": {
          "base_uri": "https://localhost:8080/"
        }
      },
      "execution_count": 19,
      "outputs": [
        {
          "output_type": "stream",
          "name": "stdout",
          "text": [
            "8.69\n"
          ]
        }
      ]
    },
    {
      "cell_type": "markdown",
      "source": [
        "## Problem-8\n",
        "\n",
        "Given two vectors $\\boldsymbol{\\theta}^{(t)}$ and $\\boldsymbol{\\theta}^{(t + 1)}$, write a function `distance` that accepts these two vectors as arguments and returns the distance between them:\n",
        "\n",
        "$$\n",
        "||\\boldsymbol{\\theta}^{(t + 1)} - \\boldsymbol{\\theta}^{(t)}||\n",
        "$$\n",
        "\n",
        "For the purposes of evaluation, compute the distance between $\\boldsymbol{\\theta}^{(0)}$ and $\\boldsymbol{\\theta}^{(1)}$ and report your answer correct to two decimal places."
      ],
      "metadata": {
        "id": "0SLzBm4fLRSK"
      }
    },
    {
      "cell_type": "code",
      "source": [
        "### Solution ###\n",
        "def distance(theta_t, theta_t_plus_1):\n",
        "  \"\"\"Computes the Euclidean distance between two parameter vectors.\n",
        "\n",
        "  Args:\n",
        "    theta_t: The parameter vector at iteration t.\n",
        "    theta_t_plus_1: The parameter vector at iteration t+1.\n",
        "\n",
        "  Returns:\n",
        "    The Euclidean distance between the two vectors.\n",
        "  \"\"\"\n",
        "  return np.linalg.norm(theta_t_plus_1 - theta_t)\n",
        "\n",
        "dist_theta_0_theta_1 = distance(theta_0, theta_1)\n",
        "print(f\"{dist_theta_0_theta_1:.2f}\")"
      ],
      "metadata": {
        "id": "f-dyb9_4IVwI",
        "outputId": "0c81ec0a-70df-482c-f65f-c8c6d638ffdc",
        "colab": {
          "base_uri": "https://localhost:8080/"
        }
      },
      "execution_count": 20,
      "outputs": [
        {
          "output_type": "stream",
          "name": "stdout",
          "text": [
            "6.27\n"
          ]
        }
      ]
    },
    {
      "cell_type": "markdown",
      "source": [
        "## Problem-9\n",
        "\n",
        "Perform the EM algorithm until convergence. The stopping-criterion is that the distance between the two parameter-vectors should be less than $0.01$.\n",
        "\n",
        "$$\n",
        "||\\boldsymbol{\\theta}^{(t + 1)} - \\boldsymbol{\\theta}^{(t)}|| < 0.01\n",
        "$$\n",
        "\n",
        "\n",
        "Initialize the parameters to $\\boldsymbol{\\theta}^{(0)}$. Find the number of iterations it takes for the algorithm to converge. Enter this as your answer.\n",
        "\n",
        "This is going to take some time. Hold tight!"
      ],
      "metadata": {
        "id": "FFQwFcH6MELs"
      }
    },
    {
      "cell_type": "code",
      "source": [
        "### Solution ###\n",
        "theta_t = init()\n",
        "theta_t_plus_1 = mstep(estep(theta_t, X), X)\n",
        "iterations = 1\n",
        "\n",
        "while distance(theta_t, theta_t_plus_1) >= 0.01:\n",
        "    theta_t = theta_t_plus_1\n",
        "    theta_t_plus_1 = mstep(estep(theta_t, X), X)\n",
        "    iterations += 1\n",
        "\n",
        "iterations"
      ],
      "metadata": {
        "id": "lqRgxVx2IXMp",
        "outputId": "50aaa033-6dd6-4d67-f7bb-6ebbb4786ba6",
        "colab": {
          "base_uri": "https://localhost:8080/"
        }
      },
      "execution_count": 22,
      "outputs": [
        {
          "output_type": "execute_result",
          "data": {
            "text/plain": [
              "73"
            ]
          },
          "metadata": {},
          "execution_count": 22
        }
      ]
    },
    {
      "cell_type": "markdown",
      "source": [
        "## Problem-10\n",
        "\n",
        "Let us now verify the correctness of our algorithm. We know the true parameters here:\n",
        "\n",
        "$$\n",
        "\\boldsymbol{\\theta} = \\begin{bmatrix}\n",
        "-4\\\\\n",
        "0\\\\\n",
        "5\\\\\n",
        "2\\\\\n",
        "1\\\\\n",
        "3\\\\\n",
        "0.3\\\\\n",
        "0.5\\\\\n",
        "0.2\n",
        "\\end{bmatrix}\n",
        "$$\n",
        "\n",
        "Let $\\boldsymbol{\\theta}^{*}$ be the parameter at convergence. Compute the distance between this vector and the true parameter vector. Enter your answer correct to two decimal places. The smaller the distance, better our estimate."
      ],
      "metadata": {
        "id": "zB33Rp_4awWp"
      }
    },
    {
      "cell_type": "code",
      "source": [
        "### Solution ###\n",
        "# True parameter vector\n",
        "true_theta = np.array([-4, 0, 5, 2, 1, 3, 0.3, 0.5, 0.2])\n",
        "\n",
        "# Parameter vector at convergence is theta_t_plus_1 from the previous problem\n",
        "theta_star = theta_t_plus_1\n",
        "\n",
        "# Compute the distance between theta_star and the true_theta\n",
        "distance_to_true = distance(theta_star, true_theta)\n",
        "\n",
        "print(f\"{distance_to_true:.2f}\")"
      ],
      "metadata": {
        "id": "WdfWCxQVbvBy",
        "outputId": "59521a7a-43a4-47be-8fb9-acfc441b6589",
        "colab": {
          "base_uri": "https://localhost:8080/"
        }
      },
      "execution_count": 24,
      "outputs": [
        {
          "output_type": "stream",
          "name": "stdout",
          "text": [
            "0.15\n"
          ]
        }
      ]
    },
    {
      "cell_type": "markdown",
      "source": [
        "## Problem-11\n",
        "\n",
        "We shall do a hard clustering of the data-points. Use the final `lamb` value obtained and cluster the points using:\n",
        "\n",
        "$$\n",
        "z_i = \\operatorname*{argmax} \\limits_{k} \\lambda_k^{i}\n",
        "$$\n",
        "\n",
        "Let $0$, $1$ and $2$ correspond to the colors red, blue and green respectively. Plot three colored histograms on the same figure, one for each cluster."
      ],
      "metadata": {
        "id": "oD5eJxOBMfN-"
      }
    },
    {
      "cell_type": "code",
      "source": [
        "### Solution ###\n",
        "final_lamb = estep(theta_star, X)\n",
        "\n",
        "# Perform hard clustering\n",
        "z_i = np.argmax(final_lamb, axis=1)\n",
        "\n",
        "# Define colors\n",
        "colors = ['red', 'blue', 'green']\n",
        "\n",
        "# Plot histograms for each cluster\n",
        "plt.figure()\n",
        "for k in range(3):\n",
        "    plt.hist(X[z_i == k], bins=50, color=colors[k], alpha=0.7, label=f'Cluster {k}')\n",
        "\n",
        "plt.title('Hard Clustering Histograms')\n",
        "plt.xlabel('Value')\n",
        "plt.ylabel('Frequency')\n",
        "plt.legend()\n",
        "plt.show()"
      ],
      "metadata": {
        "id": "NwRMqRTQgWbg",
        "outputId": "6a9f076e-78d9-4726-cb7a-0a7922acde8d",
        "colab": {
          "base_uri": "https://localhost:8080/",
          "height": 718
        }
      },
      "execution_count": 25,
      "outputs": [
        {
          "output_type": "display_data",
          "data": {
            "text/plain": [
              "<Figure size 800x800 with 1 Axes>"
            ],
            "image/png": "[encoded data removed]"
          },
          "metadata": {}
        }
      ]
    },
    {
      "cell_type": "markdown",
      "source": [
        "## Extras\n",
        "\n",
        "Here are some of the things that can be tried out:\n",
        "\n",
        "- Make the stopping criterion more stringent and see the effect it has on the number of iterations\n",
        "- Change the size of the dataset and study the effect it has on convergence.\n",
        "- Change the initialization and study the effect it has on convergence\n",
        "- Change the number of mixtures and see what happens"
      ],
      "metadata": {
        "id": "mLYpnfPd-aHq"
      }
    }
  ]
}